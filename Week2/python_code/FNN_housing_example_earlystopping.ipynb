{
 "cells": [
  {
   "cell_type": "code",
   "execution_count": 1,
   "metadata": {},
   "outputs": [],
   "source": [
    "import tensorflow as tf\n",
    "from tensorflow import keras\n",
    "(train_data, train_targets), (test_data, test_targets) =keras.datasets.boston_housing.load_data()"
   ]
  },
  {
   "cell_type": "code",
   "execution_count": 2,
   "metadata": {},
   "outputs": [],
   "source": [
    "mean = train_data.mean(axis=0)\n",
    "train_data -= mean\n",
    "std = train_data.std(axis=0)\n",
    "train_data /= std"
   ]
  },
  {
   "cell_type": "code",
   "execution_count": 3,
   "metadata": {},
   "outputs": [],
   "source": [
    "test_data -= mean\n",
    "test_data /= std"
   ]
  },
  {
   "cell_type": "markdown",
   "metadata": {},
   "source": [
    "데이터 표준화하기"
   ]
  },
  {
   "cell_type": "code",
   "execution_count": 4,
   "metadata": {},
   "outputs": [],
   "source": [
    "from tensorflow.keras import models\n",
    "from tensorflow.keras import layers\n",
    "from tensorflow.keras import regularizers"
   ]
  },
  {
   "cell_type": "code",
   "execution_count": 5,
   "metadata": {},
   "outputs": [],
   "source": [
    "model = models.Sequential()\n",
    "# Regularizer 더하기\n",
    "# https://keras.io/api/layers/regularizers/\n",
    "model.add(layers.Dense(64, activation = 'relu', kernel_regularizer=regularizers.l2(0.1), input_shape=(train_data.shape[1],)))\n",
    "model.add(layers.Dense(64, activation = 'relu'))\n",
    "model.add(layers.Dense(1))"
   ]
  },
  {
   "cell_type": "code",
   "execution_count": 6,
   "metadata": {},
   "outputs": [
    {
     "name": "stdout",
     "output_type": "stream",
     "text": [
      "Model: \"sequential\"\n",
      "_________________________________________________________________\n",
      " Layer (type)                Output Shape              Param #   \n",
      "=================================================================\n",
      " dense (Dense)               (None, 64)                896       \n",
      "                                                                 \n",
      " dense_1 (Dense)             (None, 64)                4160      \n",
      "                                                                 \n",
      " dense_2 (Dense)             (None, 1)                 65        \n",
      "                                                                 \n",
      "=================================================================\n",
      "Total params: 5,121\n",
      "Trainable params: 5,121\n",
      "Non-trainable params: 0\n",
      "_________________________________________________________________\n"
     ]
    }
   ],
   "source": [
    "model.summary()"
   ]
  },
  {
   "cell_type": "code",
   "execution_count": 7,
   "metadata": {},
   "outputs": [],
   "source": [
    "from tensorflow.keras.callbacks import EarlyStopping\n",
    "from tensorflow.keras.callbacks import ModelCheckpoint"
   ]
  },
  {
   "cell_type": "code",
   "execution_count": 8,
   "metadata": {},
   "outputs": [],
   "source": [
    "es = EarlyStopping(monitor='val_loss', mode='min', verbose=1, patience=10)\n",
    "checkpoint_filepath = './temp/checkpoint'\n",
    "mc = ModelCheckpoint(checkpoint_filepath, monitor='val_loss', mode='min', \n",
    "                     save_weights_only=True, save_best_only=True)"
   ]
  },
  {
   "cell_type": "code",
   "execution_count": 9,
   "metadata": {},
   "outputs": [],
   "source": [
    "adam = tf.keras.optimizers.Adam(learning_rate=0.1)"
   ]
  },
  {
   "cell_type": "code",
   "execution_count": 10,
   "metadata": {},
   "outputs": [],
   "source": [
    "model.compile(optimizer=adam, loss='mse')"
   ]
  },
  {
   "cell_type": "code",
   "execution_count": 11,
   "metadata": {
    "scrolled": true
   },
   "outputs": [
    {
     "name": "stdout",
     "output_type": "stream",
     "text": [
      "Epoch 1/200\n",
      "11/11 [==============================] - 1s 29ms/step - loss: 212.1325 - val_loss: 52.5559\n",
      "Epoch 2/200\n",
      "11/11 [==============================] - 0s 4ms/step - loss: 59.8486 - val_loss: 56.9458\n",
      "Epoch 3/200\n",
      "11/11 [==============================] - 0s 4ms/step - loss: 36.7898 - val_loss: 96.6055\n",
      "Epoch 4/200\n",
      "11/11 [==============================] - 0s 7ms/step - loss: 61.6520 - val_loss: 35.6240\n",
      "Epoch 5/200\n",
      "11/11 [==============================] - 0s 7ms/step - loss: 30.1624 - val_loss: 26.7551\n",
      "Epoch 6/200\n",
      "11/11 [==============================] - 0s 4ms/step - loss: 24.0551 - val_loss: 30.0721\n",
      "Epoch 7/200\n",
      "11/11 [==============================] - 0s 8ms/step - loss: 21.3370 - val_loss: 19.7845\n",
      "Epoch 8/200\n",
      "11/11 [==============================] - 0s 5ms/step - loss: 21.8201 - val_loss: 21.2559\n",
      "Epoch 9/200\n",
      "11/11 [==============================] - 0s 4ms/step - loss: 22.5499 - val_loss: 21.7691\n",
      "Epoch 10/200\n",
      "11/11 [==============================] - 0s 3ms/step - loss: 16.1003 - val_loss: 32.3908\n",
      "Epoch 11/200\n",
      "11/11 [==============================] - 0s 6ms/step - loss: 17.8076 - val_loss: 18.1594\n",
      "Epoch 12/200\n",
      "11/11 [==============================] - 0s 3ms/step - loss: 14.8941 - val_loss: 24.6449\n",
      "Epoch 13/200\n",
      "11/11 [==============================] - 0s 7ms/step - loss: 15.7233 - val_loss: 15.7703\n",
      "Epoch 14/200\n",
      "11/11 [==============================] - 0s 3ms/step - loss: 20.7603 - val_loss: 17.1916\n",
      "Epoch 15/200\n",
      "11/11 [==============================] - 0s 4ms/step - loss: 18.0688 - val_loss: 21.3210\n",
      "Epoch 16/200\n",
      "11/11 [==============================] - 0s 4ms/step - loss: 18.4114 - val_loss: 26.6849\n",
      "Epoch 17/200\n",
      "11/11 [==============================] - 0s 4ms/step - loss: 15.1000 - val_loss: 28.3165\n",
      "Epoch 18/200\n",
      "11/11 [==============================] - 0s 4ms/step - loss: 23.6710 - val_loss: 31.4468\n",
      "Epoch 19/200\n",
      "11/11 [==============================] - 0s 8ms/step - loss: 22.8237 - val_loss: 15.2128\n",
      "Epoch 20/200\n",
      "11/11 [==============================] - 0s 3ms/step - loss: 15.8813 - val_loss: 18.4775\n",
      "Epoch 21/200\n",
      "11/11 [==============================] - 0s 7ms/step - loss: 14.1459 - val_loss: 12.6840\n",
      "Epoch 22/200\n",
      "11/11 [==============================] - 0s 4ms/step - loss: 14.1049 - val_loss: 15.7768\n",
      "Epoch 23/200\n",
      "11/11 [==============================] - 0s 3ms/step - loss: 13.1290 - val_loss: 21.6756\n",
      "Epoch 24/200\n",
      "11/11 [==============================] - 0s 4ms/step - loss: 16.2842 - val_loss: 18.1585\n",
      "Epoch 25/200\n",
      "11/11 [==============================] - 0s 3ms/step - loss: 15.3976 - val_loss: 32.4681\n",
      "Epoch 26/200\n",
      "11/11 [==============================] - 0s 4ms/step - loss: 20.2714 - val_loss: 73.4756\n",
      "Epoch 27/200\n",
      "11/11 [==============================] - 0s 3ms/step - loss: 39.1712 - val_loss: 35.8323\n",
      "Epoch 28/200\n",
      "11/11 [==============================] - 0s 3ms/step - loss: 26.3227 - val_loss: 26.7001\n",
      "Epoch 29/200\n",
      "11/11 [==============================] - 0s 3ms/step - loss: 21.6321 - val_loss: 15.3090\n",
      "Epoch 30/200\n",
      "11/11 [==============================] - 0s 4ms/step - loss: 16.5871 - val_loss: 18.1547\n",
      "Epoch 31/200\n",
      "11/11 [==============================] - 0s 4ms/step - loss: 13.8751 - val_loss: 14.3415\n",
      "Epoch 31: early stopping\n"
     ]
    }
   ],
   "source": [
    "history = model.fit(train_data, train_targets, validation_split=0.2, epochs=200, batch_size=32, callbacks=[es, mc])"
   ]
  },
  {
   "cell_type": "code",
   "execution_count": 12,
   "metadata": {},
   "outputs": [
    {
     "data": {
      "image/png": "[encoded data removed]",
      "text/plain": [
       "<Figure size 640x480 with 1 Axes>"
      ]
     },
     "metadata": {},
     "output_type": "display_data"
    }
   ],
   "source": [
    "from matplotlib import pyplot\n",
    "pyplot.plot(history.history['loss'], label='train')\n",
    "pyplot.plot(history.history['val_loss'], label='validation')\n",
    "pyplot.legend()\n",
    "pyplot.show()"
   ]
  },
  {
   "cell_type": "code",
   "execution_count": 13,
   "metadata": {},
   "outputs": [
    {
     "data": {
      "text/plain": [
       "<tensorflow.python.training.tracking.util.CheckpointLoadStatus at 0x19bbf8a7e80>"
      ]
     },
     "execution_count": 13,
     "metadata": {},
     "output_type": "execute_result"
    }
   ],
   "source": [
    "model.load_weights(checkpoint_filepath)"
   ]
  },
  {
   "cell_type": "code",
   "execution_count": 14,
   "metadata": {},
   "outputs": [
    {
     "name": "stdout",
     "output_type": "stream",
     "text": [
      "4/4 [==============================] - 0s 2ms/step\n"
     ]
    }
   ],
   "source": [
    "y_pred = model.predict(test_data)"
   ]
  },
  {
   "cell_type": "code",
   "execution_count": 15,
   "metadata": {},
   "outputs": [
    {
     "name": "stderr",
     "output_type": "stream",
     "text": [
      "<frozen importlib._bootstrap>:219: RuntimeWarning: scipy._lib.messagestream.MessageStream size changed, may indicate binary incompatibility. Expected 56 from C header, got 64 from PyObject\n"
     ]
    },
    {
     "data": {
      "text/plain": [
       "0.7276135267867705"
      ]
     },
     "execution_count": 15,
     "metadata": {},
     "output_type": "execute_result"
    }
   ],
   "source": [
    "from sklearn.metrics import r2_score\n",
    "r2_score(test_targets, y_pred)"
   ]
  },
  {
   "cell_type": "code",
   "execution_count": 16,
   "metadata": {},
   "outputs": [
    {
     "data": {
      "text/plain": [
       "4.761774702251741"
      ]
     },
     "execution_count": 16,
     "metadata": {},
     "output_type": "execute_result"
    }
   ],
   "source": [
    "from sklearn.metrics import mean_squared_error\n",
    "mean_squared_error(test_targets, y_pred)**0.5"
   ]
  },
  {
   "cell_type": "code",
   "execution_count": null,
   "metadata": {},
   "outputs": [],
   "source": []
  }
 ],
 "metadata": {
  "kernelspec": {
   "display_name": "Python 3 (ipykernel)",
   "language": "python",
   "name": "python3"
  },
  "language_info": {
   "codemirror_mode": {
    "name": "ipython",
    "version": 3
   },
   "file_extension": ".py",
   "mimetype": "text/x-python",
   "name": "python",
   "nbconvert_exporter": "python",
   "pygments_lexer": "ipython3",
   "version": "3.8.5"
  }
 },
 "nbformat": 4,
 "nbformat_minor": 2
}
