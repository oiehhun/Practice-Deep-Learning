{
 "cells": [
  {
   "cell_type": "code",
   "execution_count": 1,
   "metadata": {},
   "outputs": [],
   "source": [
    "import tensorflow as tf\n",
    "from tensorflow.keras import datasets, layers, models, optimizers"
   ]
  },
  {
   "cell_type": "code",
   "execution_count": 2,
   "metadata": {},
   "outputs": [],
   "source": [
    "IMG_ROWS, IMG_COLS = 28, 28 # input image dimensions\n",
    "INPUT_SHAPE = (IMG_ROWS, IMG_COLS, 1)\n",
    "CLASSES = 10  # number of outputs = number of digits"
   ]
  },
  {
   "cell_type": "code",
   "execution_count": 3,
   "metadata": {},
   "outputs": [],
   "source": [
    "def build(input_shape, classes):\n",
    "    model = models.Sequential()\n",
    "    # CONV => RELU => POOL\n",
    "    model.add(layers.Convolution2D(filters = 6, kernel_size = 5, activation='tanh',\n",
    "                                   padding='same', input_shape=input_shape))\n",
    "    model.add(layers.AveragePooling2D(pool_size=(2, 2)))\n",
    "    # CONV => RELU => POOL\n",
    "    model.add(layers.Convolution2D(16, kernel_size = 5, activation='tanh'))\n",
    "    model.add(layers.AveragePooling2D(pool_size=(2, 2)))\n",
    "    model.add(layers.Convolution2D(120, kernel_size = 5, activation='tanh'))    \n",
    "    # Flatten => RELU layers\n",
    "    model.add(layers.Flatten())\n",
    "    model.add(layers.Dense(84, activation='tanh'))\n",
    "    # a softmax classifier\n",
    "    model.add(layers.Dense(classes, activation=\"softmax\"))\n",
    "    return model"
   ]
  },
  {
   "cell_type": "code",
   "execution_count": 4,
   "metadata": {},
   "outputs": [],
   "source": [
    "(X_train, y_train), (X_test, y_test) = datasets.mnist.load_data()"
   ]
  },
  {
   "cell_type": "code",
   "execution_count": 5,
   "metadata": {},
   "outputs": [
    {
     "data": {
      "text/plain": [
       "(60000, 28, 28)"
      ]
     },
     "execution_count": 5,
     "metadata": {},
     "output_type": "execute_result"
    }
   ],
   "source": [
    "X_train.shape"
   ]
  },
  {
   "cell_type": "code",
   "execution_count": 6,
   "metadata": {},
   "outputs": [
    {
     "data": {
      "text/plain": [
       "(10000, 28, 28)"
      ]
     },
     "execution_count": 6,
     "metadata": {},
     "output_type": "execute_result"
    }
   ],
   "source": [
    "X_test.shape"
   ]
  },
  {
   "cell_type": "code",
   "execution_count": 7,
   "metadata": {},
   "outputs": [],
   "source": [
    "# reshape\n",
    "X_train = X_train.reshape((60000, 28, 28, 1))\n",
    "X_test = X_test.reshape((10000, 28, 28, 1))"
   ]
  },
  {
   "cell_type": "code",
   "execution_count": 8,
   "metadata": {},
   "outputs": [],
   "source": [
    "# normalize\n",
    "X_train, X_test = X_train / 255.0, X_test / 255.0"
   ]
  },
  {
   "cell_type": "code",
   "execution_count": 9,
   "metadata": {},
   "outputs": [],
   "source": [
    "# cast\n",
    "X_train = X_train.astype('float32')\n",
    "X_test = X_test.astype('float32')"
   ]
  },
  {
   "cell_type": "code",
   "execution_count": 10,
   "metadata": {},
   "outputs": [
    {
     "name": "stdout",
     "output_type": "stream",
     "text": [
      "60000 train samples\n",
      "10000 test samples\n"
     ]
    }
   ],
   "source": [
    "print(X_train.shape[0], 'train samples')\n",
    "print(X_test.shape[0], 'test samples')"
   ]
  },
  {
   "cell_type": "code",
   "execution_count": 11,
   "metadata": {},
   "outputs": [],
   "source": [
    "# convert class vectors to binary class matrices\n",
    "y_train = tf.keras.utils.to_categorical(y_train, CLASSES)\n",
    "y_test = tf.keras.utils.to_categorical(y_test, CLASSES)"
   ]
  },
  {
   "cell_type": "code",
   "execution_count": 12,
   "metadata": {},
   "outputs": [
    {
     "data": {
      "text/plain": [
       "array([0., 0., 0., 0., 0., 0., 0., 1., 0., 0.], dtype=float32)"
      ]
     },
     "execution_count": 12,
     "metadata": {},
     "output_type": "execute_result"
    }
   ],
   "source": [
    "y_test[0]"
   ]
  },
  {
   "cell_type": "code",
   "execution_count": 13,
   "metadata": {},
   "outputs": [
    {
     "name": "stdout",
     "output_type": "stream",
     "text": [
      "Model: \"sequential\"\n",
      "_________________________________________________________________\n",
      " Layer (type)                Output Shape              Param #   \n",
      "=================================================================\n",
      " conv2d (Conv2D)             (None, 28, 28, 6)         156       \n",
      "                                                                 \n",
      " average_pooling2d (AverageP  (None, 14, 14, 6)        0         \n",
      " ooling2D)                                                       \n",
      "                                                                 \n",
      " conv2d_1 (Conv2D)           (None, 10, 10, 16)        2416      \n",
      "                                                                 \n",
      " average_pooling2d_1 (Averag  (None, 5, 5, 16)         0         \n",
      " ePooling2D)                                                     \n",
      "                                                                 \n",
      " conv2d_2 (Conv2D)           (None, 1, 1, 120)         48120     \n",
      "                                                                 \n",
      " flatten (Flatten)           (None, 120)               0         \n",
      "                                                                 \n",
      " dense (Dense)               (None, 84)                10164     \n",
      "                                                                 \n",
      " dense_1 (Dense)             (None, 10)                850       \n",
      "                                                                 \n",
      "=================================================================\n",
      "Total params: 61,706\n",
      "Trainable params: 61,706\n",
      "Non-trainable params: 0\n",
      "_________________________________________________________________\n"
     ]
    }
   ],
   "source": [
    "# initialize the optimizer and model\n",
    "model = build(input_shape=INPUT_SHAPE, classes=CLASSES)\n",
    "model.compile(loss=\"categorical_crossentropy\", optimizer=optimizers.Adam(learning_rate=0.001),\n",
    "              metrics=[\"accuracy\"])\n",
    "model.summary()"
   ]
  },
  {
   "cell_type": "code",
   "execution_count": 14,
   "metadata": {
    "scrolled": true
   },
   "outputs": [
    {
     "name": "stdout",
     "output_type": "stream",
     "text": [
      "Epoch 1/20\n",
      "422/422 [==============================] - 12s 27ms/step - loss: 0.3583 - accuracy: 0.8998 - val_loss: 0.1382 - val_accuracy: 0.9612\n",
      "Epoch 2/20\n",
      "422/422 [==============================] - 12s 28ms/step - loss: 0.1368 - accuracy: 0.9587 - val_loss: 0.0949 - val_accuracy: 0.9732\n",
      "Epoch 3/20\n",
      "422/422 [==============================] - 12s 29ms/step - loss: 0.0894 - accuracy: 0.9720 - val_loss: 0.0749 - val_accuracy: 0.9800\n",
      "Epoch 4/20\n",
      "422/422 [==============================] - 13s 31ms/step - loss: 0.0680 - accuracy: 0.9789 - val_loss: 0.0621 - val_accuracy: 0.9808\n",
      "Epoch 5/20\n",
      "422/422 [==============================] - 12s 29ms/step - loss: 0.0516 - accuracy: 0.9843 - val_loss: 0.0552 - val_accuracy: 0.9840\n",
      "Epoch 6/20\n",
      "422/422 [==============================] - 12s 29ms/step - loss: 0.0414 - accuracy: 0.9869 - val_loss: 0.0515 - val_accuracy: 0.9853\n",
      "Epoch 7/20\n",
      "422/422 [==============================] - 12s 29ms/step - loss: 0.0345 - accuracy: 0.9894 - val_loss: 0.0537 - val_accuracy: 0.9843\n",
      "Epoch 8/20\n",
      "422/422 [==============================] - 12s 29ms/step - loss: 0.0283 - accuracy: 0.9912 - val_loss: 0.0441 - val_accuracy: 0.9868\n",
      "Epoch 9/20\n",
      "422/422 [==============================] - 12s 29ms/step - loss: 0.0229 - accuracy: 0.9931 - val_loss: 0.0575 - val_accuracy: 0.9842\n",
      "Epoch 10/20\n",
      "422/422 [==============================] - 12s 29ms/step - loss: 0.0206 - accuracy: 0.9935 - val_loss: 0.0467 - val_accuracy: 0.9878\n",
      "Epoch 11/20\n",
      "422/422 [==============================] - 12s 29ms/step - loss: 0.0165 - accuracy: 0.9950 - val_loss: 0.0471 - val_accuracy: 0.9875\n",
      "Epoch 12/20\n",
      "422/422 [==============================] - 12s 29ms/step - loss: 0.0143 - accuracy: 0.9954 - val_loss: 0.0430 - val_accuracy: 0.9878\n",
      "Epoch 13/20\n",
      "422/422 [==============================] - 12s 29ms/step - loss: 0.0115 - accuracy: 0.9966 - val_loss: 0.0514 - val_accuracy: 0.9857\n",
      "Epoch 14/20\n",
      "422/422 [==============================] - 12s 29ms/step - loss: 0.0103 - accuracy: 0.9968 - val_loss: 0.0454 - val_accuracy: 0.9880\n",
      "Epoch 15/20\n",
      "422/422 [==============================] - 12s 29ms/step - loss: 0.0076 - accuracy: 0.9979 - val_loss: 0.0513 - val_accuracy: 0.9867\n",
      "Epoch 16/20\n",
      "422/422 [==============================] - 12s 29ms/step - loss: 0.0101 - accuracy: 0.9968 - val_loss: 0.0486 - val_accuracy: 0.9858\n",
      "Epoch 17/20\n",
      "422/422 [==============================] - 12s 29ms/step - loss: 0.0089 - accuracy: 0.9971 - val_loss: 0.0459 - val_accuracy: 0.9877\n",
      "Epoch 18/20\n",
      "422/422 [==============================] - 12s 29ms/step - loss: 0.0054 - accuracy: 0.9986 - val_loss: 0.0583 - val_accuracy: 0.9860\n",
      "Epoch 19/20\n",
      "422/422 [==============================] - 12s 29ms/step - loss: 0.0061 - accuracy: 0.9982 - val_loss: 0.0494 - val_accuracy: 0.9872\n",
      "Epoch 20/20\n",
      "422/422 [==============================] - 12s 29ms/step - loss: 0.0038 - accuracy: 0.9990 - val_loss: 0.0506 - val_accuracy: 0.9873\n"
     ]
    }
   ],
   "source": [
    "# fit \n",
    "history = model.fit(X_train, y_train, batch_size=128, epochs=20,\n",
    "                    verbose=1, validation_split=0.1)"
   ]
  },
  {
   "cell_type": "code",
   "execution_count": 15,
   "metadata": {},
   "outputs": [
    {
     "name": "stdout",
     "output_type": "stream",
     "text": [
      "313/313 [==============================] - 1s 4ms/step - loss: 0.0551 - accuracy: 0.9862\n",
      "\n",
      "Test loss: 0.055070050060749054\n",
      "Test accuracy: 0.9861999750137329\n"
     ]
    }
   ],
   "source": [
    "score = model.evaluate(X_test, y_test, verbose=1)\n",
    "print(\"\\nTest loss:\", score[0])\n",
    "print('Test accuracy:', score[1])"
   ]
  },
  {
   "cell_type": "code",
   "execution_count": 16,
   "metadata": {},
   "outputs": [
    {
     "data": {
      "image/png": "[encoded data removed]",
      "text/plain": [
       "<Figure size 640x480 with 1 Axes>"
      ]
     },
     "metadata": {},
     "output_type": "display_data"
    }
   ],
   "source": [
    "import matplotlib.pyplot as plt\n",
    "plt.plot(history.history['loss'])\n",
    "plt.plot(history.history['val_loss'])\n",
    "plt.xlabel('epoch')\n",
    "plt.ylabel('loss')\n",
    "plt.legend(['train','val'])\n",
    "plt.show()"
   ]
  },
  {
   "cell_type": "code",
   "execution_count": 17,
   "metadata": {},
   "outputs": [
    {
     "data": {
      "image/png": "[encoded data removed]",
      "text/plain": [
       "<Figure size 640x480 with 1 Axes>"
      ]
     },
     "metadata": {},
     "output_type": "display_data"
    }
   ],
   "source": [
    "plt.plot(history.history['accuracy'])\n",
    "plt.plot(history.history['val_accuracy'])\n",
    "plt.xlabel('epoch')\n",
    "plt.ylabel('accuracy')\n",
    "plt.legend(['train','val'])\n",
    "plt.show()"
   ]
  },
  {
   "cell_type": "code",
   "execution_count": null,
   "metadata": {},
   "outputs": [],
   "source": []
  }
 ],
 "metadata": {
  "kernelspec": {
   "display_name": "Python 3 (ipykernel)",
   "language": "python",
   "name": "python3"
  },
  "language_info": {
   "codemirror_mode": {
    "name": "ipython",
    "version": 3
   },
   "file_extension": ".py",
   "mimetype": "text/x-python",
   "name": "python",
   "nbconvert_exporter": "python",
   "pygments_lexer": "ipython3",
   "version": "3.8.5"
  }
 },
 "nbformat": 4,
 "nbformat_minor": 2
}
