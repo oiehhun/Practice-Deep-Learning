{
 "cells": [
  {
   "cell_type": "code",
   "execution_count": 1,
   "metadata": {},
   "outputs": [],
   "source": [
    "import tensorflow as tf\n",
    "from tensorflow import keras\n",
    "(train_data, train_targets), (test_data, test_targets) =keras.datasets.boston_housing.load_data()"
   ]
  },
  {
   "cell_type": "code",
   "execution_count": 2,
   "metadata": {},
   "outputs": [],
   "source": [
    "mean = train_data.mean(axis=0)\n",
    "train_data -= mean\n",
    "std = train_data.std(axis=0)\n",
    "train_data /= std"
   ]
  },
  {
   "cell_type": "code",
   "execution_count": 3,
   "metadata": {},
   "outputs": [],
   "source": [
    "test_data -= mean\n",
    "test_data /= std"
   ]
  },
  {
   "cell_type": "markdown",
   "metadata": {},
   "source": [
    "데이터 표준화하기"
   ]
  },
  {
   "cell_type": "code",
   "execution_count": 4,
   "metadata": {},
   "outputs": [],
   "source": [
    "from tensorflow.keras import models\n",
    "from tensorflow.keras import layers\n",
    "from tensorflow.keras import regularizers"
   ]
  },
  {
   "cell_type": "code",
   "execution_count": 5,
   "metadata": {},
   "outputs": [],
   "source": [
    "model = models.Sequential()\n",
    "# Regularizer 더하기\n",
    "# https://keras.io/api/layers/regularizers/\n",
    "model.add(layers.Dense(64, activation = 'relu', kernel_regularizer=regularizers.l2(0.1), input_shape=(train_data.shape[1],)))\n",
    "model.add(layers.Dense(64, activation = 'relu'))\n",
    "model.add(layers.Dense(1))"
   ]
  },
  {
   "cell_type": "code",
   "execution_count": 6,
   "metadata": {},
   "outputs": [
    {
     "name": "stdout",
     "output_type": "stream",
     "text": [
      "Model: \"sequential\"\n",
      "_________________________________________________________________\n",
      " Layer (type)                Output Shape              Param #   \n",
      "=================================================================\n",
      " dense (Dense)               (None, 64)                896       \n",
      "                                                                 \n",
      " dense_1 (Dense)             (None, 64)                4160      \n",
      "                                                                 \n",
      " dense_2 (Dense)             (None, 1)                 65        \n",
      "                                                                 \n",
      "=================================================================\n",
      "Total params: 5,121\n",
      "Trainable params: 5,121\n",
      "Non-trainable params: 0\n",
      "_________________________________________________________________\n"
     ]
    }
   ],
   "source": [
    "model.summary()"
   ]
  },
  {
   "cell_type": "code",
   "execution_count": 7,
   "metadata": {},
   "outputs": [],
   "source": [
    "from tensorflow.keras.callbacks import EarlyStopping\n",
    "from tensorflow.keras.callbacks import ModelCheckpoint"
   ]
  },
  {
   "cell_type": "code",
   "execution_count": 8,
   "metadata": {},
   "outputs": [],
   "source": [
    "es = EarlyStopping(monitor='val_loss', mode='min', verbose=1, patience=10)\n",
    "checkpoint_filepath = './temp/checkpoint'\n",
    "mc = ModelCheckpoint(checkpoint_filepath, monitor='val_loss', mode='min', \n",
    "                     save_weights_only=True, save_best_only=True)"
   ]
  },
  {
   "cell_type": "code",
   "execution_count": 9,
   "metadata": {},
   "outputs": [],
   "source": [
    "adam = tf.keras.optimizers.Adam(learning_rate=0.1)"
   ]
  },
  {
   "cell_type": "code",
   "execution_count": 10,
   "metadata": {},
   "outputs": [],
   "source": [
    "model.compile(optimizer=adam, loss='mse')"
   ]
  },
  {
   "cell_type": "code",
   "execution_count": 11,
   "metadata": {
    "scrolled": true
   },
   "outputs": [
    {
     "name": "stdout",
     "output_type": "stream",
     "text": [
      "Epoch 1/200\n",
      "11/11 [==============================] - 1s 41ms/step - loss: 587.9581 - val_loss: 498.5112\n",
      "Epoch 2/200\n",
      "11/11 [==============================] - 0s 27ms/step - loss: 281.2469 - val_loss: 142.4443\n",
      "Epoch 3/200\n",
      "11/11 [==============================] - 0s 27ms/step - loss: 94.7169 - val_loss: 48.1269\n",
      "Epoch 4/200\n",
      "11/11 [==============================] - 0s 16ms/step - loss: 85.8867 - val_loss: 59.6899\n",
      "Epoch 5/200\n",
      "11/11 [==============================] - 0s 22ms/step - loss: 58.1474 - val_loss: 57.0787\n",
      "Epoch 6/200\n",
      "11/11 [==============================] - 0s 14ms/step - loss: 43.9908 - val_loss: 32.9538\n",
      "Epoch 7/200\n",
      "11/11 [==============================] - 0s 11ms/step - loss: 34.3124 - val_loss: 33.1721\n",
      "Epoch 8/200\n",
      "11/11 [==============================] - 0s 16ms/step - loss: 30.3961 - val_loss: 29.9943\n",
      "Epoch 9/200\n",
      "11/11 [==============================] - 0s 10ms/step - loss: 25.4414 - val_loss: 27.1433\n",
      "Epoch 10/200\n",
      "11/11 [==============================] - 0s 10ms/step - loss: 23.8385 - val_loss: 25.3533\n",
      "Epoch 11/200\n",
      "11/11 [==============================] - 0s 8ms/step - loss: 22.3055 - val_loss: 22.4777\n",
      "Epoch 12/200\n",
      "11/11 [==============================] - 0s 9ms/step - loss: 24.4170 - val_loss: 22.2249\n",
      "Epoch 13/200\n",
      "11/11 [==============================] - 0s 11ms/step - loss: 22.5799 - val_loss: 25.9983\n",
      "Epoch 14/200\n",
      "11/11 [==============================] - 0s 15ms/step - loss: 25.1978 - val_loss: 23.9456\n",
      "Epoch 15/200\n",
      "11/11 [==============================] - 0s 11ms/step - loss: 24.7214 - val_loss: 27.9529\n",
      "Epoch 16/200\n",
      "11/11 [==============================] - 0s 12ms/step - loss: 22.5899 - val_loss: 19.7641\n",
      "Epoch 17/200\n",
      "11/11 [==============================] - 0s 17ms/step - loss: 17.9887 - val_loss: 18.9288\n",
      "Epoch 18/200\n",
      "11/11 [==============================] - 0s 8ms/step - loss: 20.1313 - val_loss: 23.0042\n",
      "Epoch 19/200\n",
      "11/11 [==============================] - 0s 9ms/step - loss: 19.6158 - val_loss: 17.5926\n",
      "Epoch 20/200\n",
      "11/11 [==============================] - 0s 28ms/step - loss: 17.2144 - val_loss: 19.0216\n",
      "Epoch 21/200\n",
      "11/11 [==============================] - 0s 17ms/step - loss: 15.4466 - val_loss: 16.9188\n",
      "Epoch 22/200\n",
      "11/11 [==============================] - 0s 15ms/step - loss: 14.1309 - val_loss: 18.7374\n",
      "Epoch 23/200\n",
      "11/11 [==============================] - 0s 12ms/step - loss: 13.2799 - val_loss: 22.6414\n",
      "Epoch 24/200\n",
      "11/11 [==============================] - 0s 23ms/step - loss: 16.8481 - val_loss: 14.5083\n",
      "Epoch 25/200\n",
      "11/11 [==============================] - 0s 15ms/step - loss: 15.7468 - val_loss: 17.7407\n",
      "Epoch 26/200\n",
      "11/11 [==============================] - 0s 7ms/step - loss: 14.5186 - val_loss: 23.0619\n",
      "Epoch 27/200\n",
      "11/11 [==============================] - 0s 11ms/step - loss: 15.3832 - val_loss: 16.3996\n",
      "Epoch 28/200\n",
      "11/11 [==============================] - 0s 15ms/step - loss: 12.2627 - val_loss: 12.6048\n",
      "Epoch 29/200\n",
      "11/11 [==============================] - 0s 12ms/step - loss: 14.7041 - val_loss: 19.8815\n",
      "Epoch 30/200\n",
      "11/11 [==============================] - 0s 6ms/step - loss: 14.3068 - val_loss: 25.8197\n",
      "Epoch 31/200\n",
      "11/11 [==============================] - 0s 8ms/step - loss: 24.1186 - val_loss: 38.3659\n",
      "Epoch 32/200\n",
      "11/11 [==============================] - 0s 11ms/step - loss: 28.5225 - val_loss: 24.2913\n",
      "Epoch 33/200\n",
      "11/11 [==============================] - 0s 7ms/step - loss: 25.4138 - val_loss: 30.6502\n",
      "Epoch 34/200\n",
      "11/11 [==============================] - 0s 6ms/step - loss: 34.3468 - val_loss: 36.6798\n",
      "Epoch 35/200\n",
      "11/11 [==============================] - 0s 18ms/step - loss: 24.9946 - val_loss: 31.7695\n",
      "Epoch 36/200\n",
      "11/11 [==============================] - 0s 8ms/step - loss: 24.8507 - val_loss: 17.3521\n",
      "Epoch 37/200\n",
      "11/11 [==============================] - 0s 8ms/step - loss: 18.9058 - val_loss: 24.0764\n",
      "Epoch 38/200\n",
      "11/11 [==============================] - 0s 23ms/step - loss: 17.8380 - val_loss: 26.4912\n",
      "Epoch 38: early stopping\n"
     ]
    }
   ],
   "source": [
    "history = model.fit(train_data, train_targets, validation_split=0.2, epochs=200, batch_size=32, callbacks=[es, mc])"
   ]
  },
  {
   "cell_type": "code",
   "execution_count": 12,
   "metadata": {},
   "outputs": [
    {
     "data": {
      "image/png": "[encoded data removed]",
      "text/plain": [
       "<Figure size 432x288 with 1 Axes>"
      ]
     },
     "metadata": {
      "needs_background": "light"
     },
     "output_type": "display_data"
    }
   ],
   "source": [
    "from matplotlib import pyplot\n",
    "pyplot.plot(history.history['loss'], label='train')\n",
    "pyplot.plot(history.history['val_loss'], label='validation')\n",
    "pyplot.legend()\n",
    "pyplot.show()"
   ]
  },
  {
   "cell_type": "code",
   "execution_count": 13,
   "metadata": {},
   "outputs": [
    {
     "data": {
      "text/plain": [
       "<tensorflow.python.training.tracking.util.CheckpointLoadStatus at 0x1caaabfd070>"
      ]
     },
     "execution_count": 13,
     "metadata": {},
     "output_type": "execute_result"
    }
   ],
   "source": [
    "model.load_weights(checkpoint_filepath)"
   ]
  },
  {
   "cell_type": "code",
   "execution_count": 14,
   "metadata": {},
   "outputs": [
    {
     "name": "stdout",
     "output_type": "stream",
     "text": [
      "4/4 [==============================] - 0s 1ms/step\n"
     ]
    }
   ],
   "source": [
    "y_pred = model.predict(test_data)"
   ]
  },
  {
   "cell_type": "code",
   "execution_count": 15,
   "metadata": {},
   "outputs": [
    {
     "name": "stderr",
     "output_type": "stream",
     "text": [
      "<frozen importlib._bootstrap>:219: RuntimeWarning: scipy._lib.messagestream.MessageStream size changed, may indicate binary incompatibility. Expected 56 from C header, got 64 from PyObject\n"
     ]
    },
    {
     "data": {
      "text/plain": [
       "0.7866085165806573"
      ]
     },
     "execution_count": 15,
     "metadata": {},
     "output_type": "execute_result"
    }
   ],
   "source": [
    "from sklearn.metrics import r2_score\n",
    "r2_score(test_targets, y_pred)"
   ]
  },
  {
   "cell_type": "code",
   "execution_count": 16,
   "metadata": {},
   "outputs": [
    {
     "data": {
      "text/plain": [
       "4.214680097133731"
      ]
     },
     "execution_count": 16,
     "metadata": {},
     "output_type": "execute_result"
    }
   ],
   "source": [
    "from sklearn.metrics import mean_squared_error\n",
    "mean_squared_error(test_targets, y_pred)**0.5"
   ]
  },
  {
   "cell_type": "code",
   "execution_count": null,
   "metadata": {},
   "outputs": [],
   "source": []
  }
 ],
 "metadata": {
  "kernelspec": {
   "display_name": "Python 3 (ipykernel)",
   "language": "python",
   "name": "python3"
  },
  "language_info": {
   "codemirror_mode": {
    "name": "ipython",
    "version": 3
   },
   "file_extension": ".py",
   "mimetype": "text/x-python",
   "name": "python",
   "nbconvert_exporter": "python",
   "pygments_lexer": "ipython3",
   "version": "3.8.8"
  }
 },
 "nbformat": 4,
 "nbformat_minor": 2
}
