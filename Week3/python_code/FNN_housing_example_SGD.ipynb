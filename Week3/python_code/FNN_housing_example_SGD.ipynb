{
 "cells": [
  {
   "cell_type": "code",
   "execution_count": 1,
   "metadata": {},
   "outputs": [],
   "source": [
    "import warnings\n",
    "warnings.filterwarnings('ignore')"
   ]
  },
  {
   "cell_type": "code",
   "execution_count": 2,
   "metadata": {},
   "outputs": [],
   "source": [
    "import numpy as np\n",
    "np.set_printoptions(suppress=True)"
   ]
  },
  {
   "cell_type": "code",
   "execution_count": 3,
   "metadata": {},
   "outputs": [
    {
     "name": "stderr",
     "output_type": "stream",
     "text": [
      "2023-09-18 15:20:14.284054: I tensorflow/core/platform/cpu_feature_guard.cc:182] This TensorFlow binary is optimized to use available CPU instructions in performance-critical operations.\n",
      "To enable the following instructions: AVX2 FMA, in other operations, rebuild TensorFlow with the appropriate compiler flags.\n"
     ]
    }
   ],
   "source": [
    "import tensorflow as tf\n",
    "from tensorflow import keras"
   ]
  },
  {
   "cell_type": "code",
   "execution_count": 4,
   "metadata": {},
   "outputs": [
    {
     "name": "stdout",
     "output_type": "stream",
     "text": [
      "Downloading data from https://storage.googleapis.com/tensorflow/tf-keras-datasets/boston_housing.npz\n",
      "57026/57026 [==============================] - 0s 0us/step\n"
     ]
    }
   ],
   "source": [
    "(train_data, train_targets), (test_data, test_targets) = keras.datasets.boston_housing.load_data()"
   ]
  },
  {
   "cell_type": "code",
   "execution_count": 5,
   "metadata": {},
   "outputs": [
    {
     "data": {
      "text/plain": [
       "(404, 13)"
      ]
     },
     "execution_count": 5,
     "metadata": {},
     "output_type": "execute_result"
    }
   ],
   "source": [
    "train_data.shape"
   ]
  },
  {
   "cell_type": "code",
   "execution_count": 6,
   "metadata": {},
   "outputs": [
    {
     "data": {
      "text/plain": [
       "(404,)"
      ]
     },
     "execution_count": 6,
     "metadata": {},
     "output_type": "execute_result"
    }
   ],
   "source": [
    "train_targets.shape"
   ]
  },
  {
   "cell_type": "markdown",
   "metadata": {},
   "source": [
    "404개의 data points <br>\n",
    "13개의 독립변수"
   ]
  },
  {
   "cell_type": "code",
   "execution_count": 7,
   "metadata": {},
   "outputs": [
    {
     "data": {
      "text/plain": [
       "array([  1.23247,   0.     ,   8.14   ,   0.     ,   0.538  ,   6.142  ,\n",
       "        91.7    ,   3.9769 ,   4.     , 307.     ,  21.     , 396.9    ,\n",
       "        18.72   ])"
      ]
     },
     "execution_count": 7,
     "metadata": {},
     "output_type": "execute_result"
    }
   ],
   "source": [
    "train_data[0]"
   ]
  },
  {
   "cell_type": "code",
   "execution_count": 8,
   "metadata": {},
   "outputs": [
    {
     "data": {
      "text/plain": [
       "array([15.2, 42.3, 50. , 21.1, 17.7])"
      ]
     },
     "execution_count": 8,
     "metadata": {},
     "output_type": "execute_result"
    }
   ],
   "source": [
    "train_targets[:5]"
   ]
  },
  {
   "cell_type": "markdown",
   "metadata": {},
   "source": [
    "종속변수는 미국 Boston에 속한 도시들의 70년대 중반 집들의 중간값 <br>\n",
    "data point는 도시 <br>\n",
    "독립변수는 범죄율, 교통 편의성 등 <br>\n",
    "10 = > $ 10K"
   ]
  },
  {
   "cell_type": "code",
   "execution_count": 9,
   "metadata": {},
   "outputs": [],
   "source": [
    "mean = train_data.mean(axis=0)\n",
    "train_data -= mean\n",
    "std = train_data.std(axis=0)\n",
    "train_data /= std\n",
    "test_data -= mean\n",
    "test_data /= std"
   ]
  },
  {
   "cell_type": "code",
   "execution_count": 10,
   "metadata": {},
   "outputs": [],
   "source": [
    "from tensorflow.keras import models\n",
    "from tensorflow.keras import layers"
   ]
  },
  {
   "cell_type": "code",
   "execution_count": 11,
   "metadata": {},
   "outputs": [
    {
     "data": {
      "text/plain": [
       "(404, 13)"
      ]
     },
     "execution_count": 11,
     "metadata": {},
     "output_type": "execute_result"
    }
   ],
   "source": [
    "train_data.shape"
   ]
  },
  {
   "cell_type": "code",
   "execution_count": 12,
   "metadata": {},
   "outputs": [],
   "source": [
    "model = models.Sequential() #keras에서는 입력층을 따로 쌓지 않음"
   ]
  },
  {
   "cell_type": "code",
   "execution_count": 13,
   "metadata": {},
   "outputs": [],
   "source": [
    "model.add(layers.Dense(64, activation = 'relu', kernel_initializer = 'glorot_uniform', input_shape=(train_data.shape[1],))) # train_data.shape[1] : feature의 개수"
   ]
  },
  {
   "cell_type": "code",
   "execution_count": 14,
   "metadata": {},
   "outputs": [],
   "source": [
    "model.add(layers.Dense(64, activation = 'relu', kernel_initializer = 'glorot_uniform'))"
   ]
  },
  {
   "cell_type": "code",
   "execution_count": 15,
   "metadata": {},
   "outputs": [],
   "source": [
    "model.add(layers.Dense(1))"
   ]
  },
  {
   "cell_type": "code",
   "execution_count": 16,
   "metadata": {},
   "outputs": [
    {
     "name": "stdout",
     "output_type": "stream",
     "text": [
      "Model: \"sequential\"\n",
      "_________________________________________________________________\n",
      " Layer (type)                Output Shape              Param #   \n",
      "=================================================================\n",
      " dense (Dense)               (None, 64)                896       \n",
      "                                                                 \n",
      " dense_1 (Dense)             (None, 64)                4160      \n",
      "                                                                 \n",
      " dense_2 (Dense)             (None, 1)                 65        \n",
      "                                                                 \n",
      "=================================================================\n",
      "Total params: 5,121\n",
      "Trainable params: 5,121\n",
      "Non-trainable params: 0\n",
      "_________________________________________________________________\n"
     ]
    }
   ],
   "source": [
    "model.summary()"
   ]
  },
  {
   "cell_type": "code",
   "execution_count": 38,
   "metadata": {},
   "outputs": [
    {
     "ename": "ImportError",
     "evalue": "You must install pydot (`pip install pydot`) for model_to_dot to work.",
     "output_type": "error",
     "traceback": [
      "\u001b[0;31m---------------------------------------------------------------------------\u001b[0m",
      "\u001b[0;31mImportError\u001b[0m                               Traceback (most recent call last)",
      "\u001b[1;32m/Users/oiehhun/Downloads/딥러닝이론과실습/Week3_updated/python_code/FNN_housing_example_SGD.ipynb Cell 19\u001b[0m line \u001b[0;36m3\n\u001b[1;32m      <a href='vscode-notebook-cell:/Users/oiehhun/Downloads/%E1%84%83%E1%85%B5%E1%86%B8%E1%84%85%E1%85%A5%E1%84%82%E1%85%B5%E1%86%BC%E1%84%8B%E1%85%B5%E1%84%85%E1%85%A9%E1%86%AB%E1%84%80%E1%85%AA%E1%84%89%E1%85%B5%E1%86%AF%E1%84%89%E1%85%B3%E1%86%B8/Week3_updated/python_code/FNN_housing_example_SGD.ipynb#X24sZmlsZQ%3D%3D?line=0'>1</a>\u001b[0m \u001b[39mfrom\u001b[39;00m \u001b[39mIPython\u001b[39;00m\u001b[39m.\u001b[39;00m\u001b[39mdisplay\u001b[39;00m \u001b[39mimport\u001b[39;00m SVG\n\u001b[1;32m      <a href='vscode-notebook-cell:/Users/oiehhun/Downloads/%E1%84%83%E1%85%B5%E1%86%B8%E1%84%85%E1%85%A5%E1%84%82%E1%85%B5%E1%86%BC%E1%84%8B%E1%85%B5%E1%84%85%E1%85%A9%E1%86%AB%E1%84%80%E1%85%AA%E1%84%89%E1%85%B5%E1%86%AF%E1%84%89%E1%85%B3%E1%86%B8/Week3_updated/python_code/FNN_housing_example_SGD.ipynb#X24sZmlsZQ%3D%3D?line=1'>2</a>\u001b[0m \u001b[39mfrom\u001b[39;00m \u001b[39mkeras\u001b[39;00m\u001b[39m.\u001b[39;00m\u001b[39mutils\u001b[39;00m\u001b[39m.\u001b[39;00m\u001b[39mvis_utils\u001b[39;00m \u001b[39mimport\u001b[39;00m model_to_dot\n\u001b[0;32m----> <a href='vscode-notebook-cell:/Users/oiehhun/Downloads/%E1%84%83%E1%85%B5%E1%86%B8%E1%84%85%E1%85%A5%E1%84%82%E1%85%B5%E1%86%BC%E1%84%8B%E1%85%B5%E1%84%85%E1%85%A9%E1%86%AB%E1%84%80%E1%85%AA%E1%84%89%E1%85%B5%E1%86%AF%E1%84%89%E1%85%B3%E1%86%B8/Week3_updated/python_code/FNN_housing_example_SGD.ipynb#X24sZmlsZQ%3D%3D?line=2'>3</a>\u001b[0m SVG(model_to_dot(model, show_shapes\u001b[39m=\u001b[39;49m \u001b[39mTrue\u001b[39;49;00m, show_layer_names\u001b[39m=\u001b[39;49m\u001b[39mTrue\u001b[39;49;00m, dpi\u001b[39m=\u001b[39;49m\u001b[39m65\u001b[39;49m)\u001b[39m.\u001b[39mcreate(prog\u001b[39m=\u001b[39m\u001b[39m'\u001b[39m\u001b[39mdot\u001b[39m\u001b[39m'\u001b[39m, \u001b[39mformat\u001b[39m\u001b[39m=\u001b[39m\u001b[39m'\u001b[39m\u001b[39msvg\u001b[39m\u001b[39m'\u001b[39m))\n",
      "File \u001b[0;32m~/python/DA/lib/python3.8/site-packages/keras/utils/vis_utils.py:141\u001b[0m, in \u001b[0;36mmodel_to_dot\u001b[0;34m(model, show_shapes, show_dtype, show_layer_names, rankdir, expand_nested, dpi, subgraph, layer_range, show_layer_activations, show_trainable)\u001b[0m\n\u001b[1;32m    138\u001b[0m \u001b[39mfrom\u001b[39;00m \u001b[39mkeras\u001b[39;00m\u001b[39m.\u001b[39;00m\u001b[39mlayers\u001b[39;00m \u001b[39mimport\u001b[39;00m Wrapper\n\u001b[1;32m    140\u001b[0m \u001b[39mif\u001b[39;00m \u001b[39mnot\u001b[39;00m check_pydot():\n\u001b[0;32m--> 141\u001b[0m     \u001b[39mraise\u001b[39;00m \u001b[39mImportError\u001b[39;00m(\n\u001b[1;32m    142\u001b[0m         \u001b[39m\"\u001b[39m\u001b[39mYou must install pydot (`pip install pydot`) for \u001b[39m\u001b[39m\"\u001b[39m\n\u001b[1;32m    143\u001b[0m         \u001b[39m\"\u001b[39m\u001b[39mmodel_to_dot to work.\u001b[39m\u001b[39m\"\u001b[39m\n\u001b[1;32m    144\u001b[0m     )\n\u001b[1;32m    146\u001b[0m \u001b[39mif\u001b[39;00m subgraph:\n\u001b[1;32m    147\u001b[0m     dot \u001b[39m=\u001b[39m pydot\u001b[39m.\u001b[39mCluster(style\u001b[39m=\u001b[39m\u001b[39m\"\u001b[39m\u001b[39mdashed\u001b[39m\u001b[39m\"\u001b[39m, graph_name\u001b[39m=\u001b[39mmodel\u001b[39m.\u001b[39mname)\n",
      "\u001b[0;31mImportError\u001b[0m: You must install pydot (`pip install pydot`) for model_to_dot to work."
     ]
    }
   ],
   "source": [
    "from IPython.display import SVG\n",
    "from keras.utils.vis_utils import model_to_dot\n",
    "SVG(model_to_dot(model, show_shapes= True, show_layer_names=True, dpi=65).create(prog='dot', format='svg'))"
   ]
  },
  {
   "cell_type": "markdown",
   "metadata": {},
   "source": [
    "SGD optimizer 사용하기"
   ]
  },
  {
   "cell_type": "code",
   "execution_count": 25,
   "metadata": {},
   "outputs": [],
   "source": [
    "sgd= tf.keras.optimizers.SGD(learning_rate=0.001, momentum=0.9, nesterov=True) # momentum 보통 0.9로 설정"
   ]
  },
  {
   "cell_type": "code",
   "execution_count": 26,
   "metadata": {},
   "outputs": [],
   "source": [
    "model.compile(optimizer=sgd, loss='mse')"
   ]
  },
  {
   "cell_type": "code",
   "execution_count": 27,
   "metadata": {
    "scrolled": true
   },
   "outputs": [
    {
     "name": "stdout",
     "output_type": "stream",
     "text": [
      "Epoch 1/80\n",
      "7/7 [==============================] - 1s 3ms/step - loss: 415.0500\n",
      "Epoch 2/80\n",
      "7/7 [==============================] - 0s 10ms/step - loss: 56.4635\n",
      "Epoch 3/80\n",
      "7/7 [==============================] - 0s 6ms/step - loss: 19.8492\n",
      "Epoch 4/80\n",
      "7/7 [==============================] - 0s 6ms/step - loss: 13.3722\n",
      "Epoch 5/80\n",
      "7/7 [==============================] - 0s 4ms/step - loss: 12.0315\n",
      "Epoch 6/80\n",
      "7/7 [==============================] - 0s 6ms/step - loss: 11.2597\n",
      "Epoch 7/80\n",
      "7/7 [==============================] - 0s 6ms/step - loss: 9.9616\n",
      "Epoch 8/80\n",
      "7/7 [==============================] - 0s 6ms/step - loss: 9.5579\n",
      "Epoch 9/80\n",
      "7/7 [==============================] - 0s 8ms/step - loss: 9.6447\n",
      "Epoch 10/80\n",
      "7/7 [==============================] - 0s 4ms/step - loss: 8.9188\n",
      "Epoch 11/80\n",
      "7/7 [==============================] - 0s 6ms/step - loss: 8.6130\n",
      "Epoch 12/80\n",
      "7/7 [==============================] - 0s 6ms/step - loss: 8.5010\n",
      "Epoch 13/80\n",
      "7/7 [==============================] - 0s 6ms/step - loss: 8.1616\n",
      "Epoch 14/80\n",
      "7/7 [==============================] - 0s 6ms/step - loss: 8.2417\n",
      "Epoch 15/80\n",
      "7/7 [==============================] - 0s 5ms/step - loss: 8.0169\n",
      "Epoch 16/80\n",
      "7/7 [==============================] - 0s 7ms/step - loss: 8.1059\n",
      "Epoch 17/80\n",
      "7/7 [==============================] - 0s 8ms/step - loss: 7.7125\n",
      "Epoch 18/80\n",
      "7/7 [==============================] - 0s 6ms/step - loss: 7.5569\n",
      "Epoch 19/80\n",
      "7/7 [==============================] - 0s 4ms/step - loss: 7.2270\n",
      "Epoch 20/80\n",
      "7/7 [==============================] - 0s 6ms/step - loss: 7.5881\n",
      "Epoch 21/80\n",
      "7/7 [==============================] - 0s 5ms/step - loss: 7.4584\n",
      "Epoch 22/80\n",
      "7/7 [==============================] - 0s 4ms/step - loss: 7.1041\n",
      "Epoch 23/80\n",
      "7/7 [==============================] - 0s 6ms/step - loss: 6.9666\n",
      "Epoch 24/80\n",
      "7/7 [==============================] - 0s 4ms/step - loss: 6.8023\n",
      "Epoch 25/80\n",
      "7/7 [==============================] - 0s 6ms/step - loss: 7.1165\n",
      "Epoch 26/80\n",
      "7/7 [==============================] - 0s 7ms/step - loss: 7.2342\n",
      "Epoch 27/80\n",
      "7/7 [==============================] - 0s 6ms/step - loss: 7.1568\n",
      "Epoch 28/80\n",
      "7/7 [==============================] - 0s 5ms/step - loss: 6.6448\n",
      "Epoch 29/80\n",
      "7/7 [==============================] - 0s 5ms/step - loss: 6.5695\n",
      "Epoch 30/80\n",
      "7/7 [==============================] - 0s 7ms/step - loss: 6.3139\n",
      "Epoch 31/80\n",
      "7/7 [==============================] - 0s 5ms/step - loss: 6.5447\n",
      "Epoch 32/80\n",
      "7/7 [==============================] - 0s 4ms/step - loss: 6.3706\n",
      "Epoch 33/80\n",
      "7/7 [==============================] - 0s 10ms/step - loss: 6.0858\n",
      "Epoch 34/80\n",
      "7/7 [==============================] - 0s 8ms/step - loss: 5.9430\n",
      "Epoch 35/80\n",
      "7/7 [==============================] - 0s 6ms/step - loss: 6.1649\n",
      "Epoch 36/80\n",
      "7/7 [==============================] - 0s 9ms/step - loss: 5.9131\n",
      "Epoch 37/80\n",
      "7/7 [==============================] - 0s 6ms/step - loss: 5.7955\n",
      "Epoch 38/80\n",
      "7/7 [==============================] - 0s 5ms/step - loss: 5.7984\n",
      "Epoch 39/80\n",
      "7/7 [==============================] - 0s 5ms/step - loss: 5.9118\n",
      "Epoch 40/80\n",
      "7/7 [==============================] - 0s 5ms/step - loss: 6.3338\n",
      "Epoch 41/80\n",
      "7/7 [==============================] - 0s 15ms/step - loss: 5.7353\n",
      "Epoch 42/80\n",
      "7/7 [==============================] - 0s 3ms/step - loss: 5.6101\n",
      "Epoch 43/80\n",
      "7/7 [==============================] - 0s 5ms/step - loss: 5.5281\n",
      "Epoch 44/80\n",
      "7/7 [==============================] - 0s 5ms/step - loss: 5.4485\n",
      "Epoch 45/80\n",
      "7/7 [==============================] - 0s 4ms/step - loss: 5.4424\n",
      "Epoch 46/80\n",
      "7/7 [==============================] - 0s 4ms/step - loss: 5.6122\n",
      "Epoch 47/80\n",
      "7/7 [==============================] - 0s 9ms/step - loss: 5.5066\n",
      "Epoch 48/80\n",
      "7/7 [==============================] - 0s 8ms/step - loss: 5.7289\n",
      "Epoch 49/80\n",
      "7/7 [==============================] - 0s 7ms/step - loss: 5.1872\n",
      "Epoch 50/80\n",
      "7/7 [==============================] - 0s 6ms/step - loss: 5.6663\n",
      "Epoch 51/80\n",
      "7/7 [==============================] - 0s 5ms/step - loss: 5.9424\n",
      "Epoch 52/80\n",
      "7/7 [==============================] - 0s 5ms/step - loss: 5.2612\n",
      "Epoch 53/80\n",
      "7/7 [==============================] - 0s 5ms/step - loss: 5.2450\n",
      "Epoch 54/80\n",
      "7/7 [==============================] - 0s 6ms/step - loss: 5.1750\n",
      "Epoch 55/80\n",
      "7/7 [==============================] - 0s 6ms/step - loss: 4.8348\n",
      "Epoch 56/80\n",
      "7/7 [==============================] - 0s 6ms/step - loss: 4.9822\n",
      "Epoch 57/80\n",
      "7/7 [==============================] - 0s 5ms/step - loss: 4.8425\n",
      "Epoch 58/80\n",
      "7/7 [==============================] - 0s 6ms/step - loss: 4.9668\n",
      "Epoch 59/80\n",
      "7/7 [==============================] - 0s 4ms/step - loss: 5.2127\n",
      "Epoch 60/80\n",
      "7/7 [==============================] - 0s 6ms/step - loss: 4.8964\n",
      "Epoch 61/80\n",
      "7/7 [==============================] - 0s 5ms/step - loss: 5.2118\n",
      "Epoch 62/80\n",
      "7/7 [==============================] - 0s 5ms/step - loss: 4.8208\n",
      "Epoch 63/80\n",
      "7/7 [==============================] - 0s 6ms/step - loss: 4.7687\n",
      "Epoch 64/80\n",
      "7/7 [==============================] - 0s 5ms/step - loss: 4.7327\n",
      "Epoch 65/80\n",
      "7/7 [==============================] - 0s 5ms/step - loss: 5.3582\n",
      "Epoch 66/80\n",
      "7/7 [==============================] - 0s 4ms/step - loss: 5.3091\n",
      "Epoch 67/80\n",
      "7/7 [==============================] - 0s 5ms/step - loss: 4.7051\n",
      "Epoch 68/80\n",
      "7/7 [==============================] - 0s 4ms/step - loss: 4.5885\n",
      "Epoch 69/80\n",
      "7/7 [==============================] - 0s 5ms/step - loss: 4.4858\n",
      "Epoch 70/80\n",
      "7/7 [==============================] - 0s 8ms/step - loss: 4.3497\n",
      "Epoch 71/80\n",
      "7/7 [==============================] - 0s 6ms/step - loss: 4.3704\n",
      "Epoch 72/80\n",
      "7/7 [==============================] - 0s 4ms/step - loss: 4.3676\n",
      "Epoch 73/80\n",
      "7/7 [==============================] - 0s 4ms/step - loss: 4.3011\n",
      "Epoch 74/80\n",
      "7/7 [==============================] - 0s 7ms/step - loss: 4.2432\n",
      "Epoch 75/80\n",
      "7/7 [==============================] - 0s 5ms/step - loss: 4.3097\n",
      "Epoch 76/80\n",
      "7/7 [==============================] - 0s 5ms/step - loss: 4.2602\n",
      "Epoch 77/80\n",
      "7/7 [==============================] - 0s 5ms/step - loss: 4.1929\n",
      "Epoch 78/80\n",
      "7/7 [==============================] - 0s 5ms/step - loss: 4.1428\n",
      "Epoch 79/80\n",
      "7/7 [==============================] - 0s 6ms/step - loss: 3.9263\n",
      "Epoch 80/80\n",
      "7/7 [==============================] - 0s 4ms/step - loss: 4.0489\n"
     ]
    }
   ],
   "source": [
    "history = model.fit(train_data, train_targets, epochs=80, batch_size=64) \n",
    "# batch_size : mini-batch size 보통 2의 제곱수로 설정\n",
    "# 한 epoch당 404/64 = 6.xxx번 -> 7번의 weight update가 이루어짐(64x6=384 + 20(마지막 업데이트) = 404)"
   ]
  },
  {
   "cell_type": "markdown",
   "metadata": {},
   "source": [
    "## Loss 값 변화 살펴보기"
   ]
  },
  {
   "cell_type": "code",
   "execution_count": 28,
   "metadata": {},
   "outputs": [],
   "source": [
    "import matplotlib.pyplot as plt"
   ]
  },
  {
   "cell_type": "code",
   "execution_count": 29,
   "metadata": {},
   "outputs": [
    {
     "data": {
      "image/png": "[encoded data removed]",
      "text/plain": [
       "<Figure size 640x480 with 1 Axes>"
      ]
     },
     "metadata": {},
     "output_type": "display_data"
    }
   ],
   "source": [
    "plt.plot(history.history['loss'])\n",
    "plt.xlabel('epoch')\n",
    "plt.ylabel('loss')\n",
    "plt.legend(['train'])\n",
    "plt.show()"
   ]
  },
  {
   "cell_type": "markdown",
   "metadata": {},
   "source": [
    "# 성능 평가하기"
   ]
  },
  {
   "cell_type": "code",
   "execution_count": 30,
   "metadata": {},
   "outputs": [
    {
     "data": {
      "text/plain": [
       "(102, 13)"
      ]
     },
     "execution_count": 30,
     "metadata": {},
     "output_type": "execute_result"
    }
   ],
   "source": [
    "test_data.shape"
   ]
  },
  {
   "cell_type": "code",
   "execution_count": 31,
   "metadata": {},
   "outputs": [
    {
     "name": "stdout",
     "output_type": "stream",
     "text": [
      "4/4 [==============================] - 0s 3ms/step\n"
     ]
    }
   ],
   "source": [
    "y_pred = model.predict(test_data) # predict batch size default = 32"
   ]
  },
  {
   "cell_type": "code",
   "execution_count": 32,
   "metadata": {},
   "outputs": [
    {
     "data": {
      "text/plain": [
       "3.714447340716457"
      ]
     },
     "execution_count": 32,
     "metadata": {},
     "output_type": "execute_result"
    }
   ],
   "source": [
    "from sklearn.metrics import mean_squared_error\n",
    "mean_squared_error(test_targets, y_pred)**0.5"
   ]
  },
  {
   "cell_type": "code",
   "execution_count": 33,
   "metadata": {},
   "outputs": [
    {
     "data": {
      "text/plain": [
       "0.8342565932223349"
      ]
     },
     "execution_count": 33,
     "metadata": {},
     "output_type": "execute_result"
    }
   ],
   "source": [
    "from sklearn.metrics import r2_score\n",
    "r2_score(test_targets, y_pred)"
   ]
  },
  {
   "cell_type": "code",
   "execution_count": null,
   "metadata": {},
   "outputs": [],
   "source": []
  },
  {
   "cell_type": "code",
   "execution_count": null,
   "metadata": {},
   "outputs": [],
   "source": []
  }
 ],
 "metadata": {
  "kernelspec": {
   "display_name": "Python 3 (ipykernel)",
   "language": "python",
   "name": "python3"
  },
  "language_info": {
   "codemirror_mode": {
    "name": "ipython",
    "version": 3
   },
   "file_extension": ".py",
   "mimetype": "text/x-python",
   "name": "python",
   "nbconvert_exporter": "python",
   "pygments_lexer": "ipython3",
   "version": "3.8.8"
  }
 },
 "nbformat": 4,
 "nbformat_minor": 2
}
