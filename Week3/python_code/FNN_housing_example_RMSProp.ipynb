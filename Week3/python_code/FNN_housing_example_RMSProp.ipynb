{
 "cells": [
  {
   "cell_type": "code",
   "execution_count": 1,
   "metadata": {},
   "outputs": [],
   "source": [
    "import warnings\n",
    "warnings.filterwarnings('ignore')\n",
    "import numpy as np\n",
    "np.set_printoptions(suppress=True)"
   ]
  },
  {
   "cell_type": "code",
   "execution_count": 2,
   "metadata": {},
   "outputs": [
    {
     "name": "stderr",
     "output_type": "stream",
     "text": [
      "2023-09-18 15:50:37.590397: I tensorflow/core/platform/cpu_feature_guard.cc:182] This TensorFlow binary is optimized to use available CPU instructions in performance-critical operations.\n",
      "To enable the following instructions: AVX2 FMA, in other operations, rebuild TensorFlow with the appropriate compiler flags.\n"
     ]
    }
   ],
   "source": [
    "import tensorflow as tf\n",
    "from tensorflow import keras"
   ]
  },
  {
   "cell_type": "code",
   "execution_count": 3,
   "metadata": {},
   "outputs": [],
   "source": [
    "(train_data, train_targets), (test_data, test_targets) =keras.datasets.boston_housing.load_data()"
   ]
  },
  {
   "cell_type": "code",
   "execution_count": 4,
   "metadata": {},
   "outputs": [],
   "source": [
    "mean = train_data.mean(axis=0)\n",
    "train_data -= mean\n",
    "std = train_data.std(axis=0)\n",
    "train_data /= std\n",
    "test_data -= mean\n",
    "test_data /= std"
   ]
  },
  {
   "cell_type": "code",
   "execution_count": 5,
   "metadata": {},
   "outputs": [],
   "source": [
    "from tensorflow.keras import models\n",
    "from tensorflow.keras import layers"
   ]
  },
  {
   "cell_type": "code",
   "execution_count": 6,
   "metadata": {},
   "outputs": [
    {
     "data": {
      "text/plain": [
       "(404, 13)"
      ]
     },
     "execution_count": 6,
     "metadata": {},
     "output_type": "execute_result"
    }
   ],
   "source": [
    "train_data.shape"
   ]
  },
  {
   "cell_type": "code",
   "execution_count": 7,
   "metadata": {},
   "outputs": [],
   "source": [
    "model = models.Sequential()"
   ]
  },
  {
   "cell_type": "code",
   "execution_count": 8,
   "metadata": {},
   "outputs": [],
   "source": [
    "model.add(layers.Dense(64, activation = 'relu', kernel_initializer = 'glorot_uniform', input_shape=(train_data.shape[1],)))"
   ]
  },
  {
   "cell_type": "code",
   "execution_count": 9,
   "metadata": {},
   "outputs": [],
   "source": [
    "model.add(layers.Dense(64, activation = 'relu', kernel_initializer = 'glorot_uniform'))"
   ]
  },
  {
   "cell_type": "code",
   "execution_count": 10,
   "metadata": {},
   "outputs": [],
   "source": [
    "model.add(layers.Dense(1))"
   ]
  },
  {
   "cell_type": "code",
   "execution_count": 11,
   "metadata": {},
   "outputs": [
    {
     "name": "stdout",
     "output_type": "stream",
     "text": [
      "Model: \"sequential\"\n",
      "_________________________________________________________________\n",
      " Layer (type)                Output Shape              Param #   \n",
      "=================================================================\n",
      " dense (Dense)               (None, 64)                896       \n",
      "                                                                 \n",
      " dense_1 (Dense)             (None, 64)                4160      \n",
      "                                                                 \n",
      " dense_2 (Dense)             (None, 1)                 65        \n",
      "                                                                 \n",
      "=================================================================\n",
      "Total params: 5,121\n",
      "Trainable params: 5,121\n",
      "Non-trainable params: 0\n",
      "_________________________________________________________________\n"
     ]
    }
   ],
   "source": [
    "model.summary()"
   ]
  },
  {
   "cell_type": "markdown",
   "metadata": {},
   "source": [
    "## RMSprop 옵티마이저 사용해 보기"
   ]
  },
  {
   "cell_type": "code",
   "execution_count": 12,
   "metadata": {},
   "outputs": [],
   "source": [
    "rmsprop = tf.keras.optimizers.RMSprop(learning_rate=0.01, rho=0.85, momentum=0.9)"
   ]
  },
  {
   "cell_type": "code",
   "execution_count": 13,
   "metadata": {},
   "outputs": [],
   "source": [
    "model.compile(optimizer=rmsprop, loss='mse')"
   ]
  },
  {
   "cell_type": "code",
   "execution_count": 14,
   "metadata": {
    "scrolled": true
   },
   "outputs": [
    {
     "name": "stdout",
     "output_type": "stream",
     "text": [
      "Epoch 1/80\n",
      "7/7 [==============================] - 1s 3ms/step - loss: 619.9476\n",
      "Epoch 2/80\n",
      "7/7 [==============================] - 0s 9ms/step - loss: 140.3877\n",
      "Epoch 3/80\n",
      "7/7 [==============================] - 0s 7ms/step - loss: 81.5091\n",
      "Epoch 4/80\n",
      "7/7 [==============================] - 0s 5ms/step - loss: 35.2728\n",
      "Epoch 5/80\n",
      "7/7 [==============================] - 0s 4ms/step - loss: 28.7860\n",
      "Epoch 6/80\n",
      "7/7 [==============================] - 0s 5ms/step - loss: 23.6349\n",
      "Epoch 7/80\n",
      "7/7 [==============================] - 0s 4ms/step - loss: 34.2350\n",
      "Epoch 8/80\n",
      "7/7 [==============================] - 0s 5ms/step - loss: 31.2256\n",
      "Epoch 9/80\n",
      "7/7 [==============================] - 0s 5ms/step - loss: 17.6176\n",
      "Epoch 10/80\n",
      "7/7 [==============================] - 0s 5ms/step - loss: 17.3320\n",
      "Epoch 11/80\n",
      "7/7 [==============================] - 0s 5ms/step - loss: 27.4568\n",
      "Epoch 12/80\n",
      "7/7 [==============================] - 0s 5ms/step - loss: 17.5430\n",
      "Epoch 13/80\n",
      "7/7 [==============================] - 0s 4ms/step - loss: 11.4269\n",
      "Epoch 14/80\n",
      "7/7 [==============================] - 0s 5ms/step - loss: 10.5902\n",
      "Epoch 15/80\n",
      "7/7 [==============================] - 0s 5ms/step - loss: 10.0722\n",
      "Epoch 16/80\n",
      "7/7 [==============================] - 0s 5ms/step - loss: 12.7333\n",
      "Epoch 17/80\n",
      "7/7 [==============================] - 0s 5ms/step - loss: 8.9913\n",
      "Epoch 18/80\n",
      "7/7 [==============================] - 0s 5ms/step - loss: 11.6626\n",
      "Epoch 19/80\n",
      "7/7 [==============================] - 0s 3ms/step - loss: 9.1254\n",
      "Epoch 20/80\n",
      "7/7 [==============================] - 0s 4ms/step - loss: 9.6889\n",
      "Epoch 21/80\n",
      "7/7 [==============================] - 0s 4ms/step - loss: 11.7198\n",
      "Epoch 22/80\n",
      "7/7 [==============================] - 0s 4ms/step - loss: 16.8380\n",
      "Epoch 23/80\n",
      "7/7 [==============================] - 0s 4ms/step - loss: 10.0177\n",
      "Epoch 24/80\n",
      "7/7 [==============================] - 0s 8ms/step - loss: 8.6065\n",
      "Epoch 25/80\n",
      "7/7 [==============================] - 0s 4ms/step - loss: 6.0245\n",
      "Epoch 26/80\n",
      "7/7 [==============================] - 0s 7ms/step - loss: 7.5457\n",
      "Epoch 27/80\n",
      "7/7 [==============================] - 0s 4ms/step - loss: 7.7744\n",
      "Epoch 28/80\n",
      "7/7 [==============================] - 0s 4ms/step - loss: 6.6778\n",
      "Epoch 29/80\n",
      "7/7 [==============================] - 0s 3ms/step - loss: 6.4946\n",
      "Epoch 30/80\n",
      "7/7 [==============================] - 0s 3ms/step - loss: 10.4620\n",
      "Epoch 31/80\n",
      "7/7 [==============================] - 0s 4ms/step - loss: 7.2578\n",
      "Epoch 32/80\n",
      "7/7 [==============================] - 0s 4ms/step - loss: 12.8059\n",
      "Epoch 33/80\n",
      "7/7 [==============================] - 0s 3ms/step - loss: 10.0267\n",
      "Epoch 34/80\n",
      "7/7 [==============================] - 0s 6ms/step - loss: 6.9313\n",
      "Epoch 35/80\n",
      "7/7 [==============================] - 0s 4ms/step - loss: 6.1256\n",
      "Epoch 36/80\n",
      "7/7 [==============================] - 0s 4ms/step - loss: 7.4503\n",
      "Epoch 37/80\n",
      "7/7 [==============================] - 0s 4ms/step - loss: 6.1742\n",
      "Epoch 38/80\n",
      "7/7 [==============================] - 0s 3ms/step - loss: 4.5397\n",
      "Epoch 39/80\n",
      "7/7 [==============================] - 0s 24ms/step - loss: 4.9970\n",
      "Epoch 40/80\n",
      "7/7 [==============================] - 0s 6ms/step - loss: 8.8258\n",
      "Epoch 41/80\n",
      "7/7 [==============================] - 0s 5ms/step - loss: 8.0162\n",
      "Epoch 42/80\n",
      "7/7 [==============================] - 0s 5ms/step - loss: 8.3655\n",
      "Epoch 43/80\n",
      "7/7 [==============================] - 0s 4ms/step - loss: 7.8482\n",
      "Epoch 44/80\n",
      "7/7 [==============================] - 0s 4ms/step - loss: 10.3979\n",
      "Epoch 45/80\n",
      "7/7 [==============================] - 0s 4ms/step - loss: 8.8235\n",
      "Epoch 46/80\n",
      "7/7 [==============================] - 0s 3ms/step - loss: 8.4322\n",
      "Epoch 47/80\n",
      "7/7 [==============================] - 0s 3ms/step - loss: 8.1640\n",
      "Epoch 48/80\n",
      "7/7 [==============================] - 0s 4ms/step - loss: 9.7530\n",
      "Epoch 49/80\n",
      "7/7 [==============================] - 0s 4ms/step - loss: 8.1511\n",
      "Epoch 50/80\n",
      "7/7 [==============================] - 0s 5ms/step - loss: 8.8753\n",
      "Epoch 51/80\n",
      "7/7 [==============================] - 0s 3ms/step - loss: 8.5583\n",
      "Epoch 52/80\n",
      "7/7 [==============================] - 0s 4ms/step - loss: 7.8530\n",
      "Epoch 53/80\n",
      "7/7 [==============================] - 0s 4ms/step - loss: 5.5829\n",
      "Epoch 54/80\n",
      "7/7 [==============================] - 0s 3ms/step - loss: 5.2822\n",
      "Epoch 55/80\n",
      "7/7 [==============================] - 0s 5ms/step - loss: 5.2051\n",
      "Epoch 56/80\n",
      "7/7 [==============================] - 0s 4ms/step - loss: 5.5475\n",
      "Epoch 57/80\n",
      "7/7 [==============================] - 0s 5ms/step - loss: 6.1049\n",
      "Epoch 58/80\n",
      "7/7 [==============================] - 0s 3ms/step - loss: 4.3754\n",
      "Epoch 59/80\n",
      "7/7 [==============================] - 0s 3ms/step - loss: 4.8785\n",
      "Epoch 60/80\n",
      "7/7 [==============================] - 0s 4ms/step - loss: 8.8569\n",
      "Epoch 61/80\n",
      "7/7 [==============================] - 0s 6ms/step - loss: 7.2437\n",
      "Epoch 62/80\n",
      "7/7 [==============================] - 0s 4ms/step - loss: 6.1625\n",
      "Epoch 63/80\n",
      "7/7 [==============================] - 0s 3ms/step - loss: 4.9535\n",
      "Epoch 64/80\n",
      "7/7 [==============================] - 0s 5ms/step - loss: 7.6874\n",
      "Epoch 65/80\n",
      "7/7 [==============================] - 0s 4ms/step - loss: 6.9809\n",
      "Epoch 66/80\n",
      "7/7 [==============================] - 0s 3ms/step - loss: 5.7900\n",
      "Epoch 67/80\n",
      "7/7 [==============================] - 0s 5ms/step - loss: 6.4766\n",
      "Epoch 68/80\n",
      "7/7 [==============================] - 0s 4ms/step - loss: 6.6058\n",
      "Epoch 69/80\n",
      "7/7 [==============================] - 0s 4ms/step - loss: 4.9386\n",
      "Epoch 70/80\n",
      "7/7 [==============================] - 0s 4ms/step - loss: 5.7476\n",
      "Epoch 71/80\n",
      "7/7 [==============================] - 0s 5ms/step - loss: 5.4675\n",
      "Epoch 72/80\n",
      "7/7 [==============================] - 0s 3ms/step - loss: 5.0808\n",
      "Epoch 73/80\n",
      "7/7 [==============================] - 0s 5ms/step - loss: 4.0457\n",
      "Epoch 74/80\n",
      "7/7 [==============================] - 0s 3ms/step - loss: 4.2856\n",
      "Epoch 75/80\n",
      "7/7 [==============================] - 0s 4ms/step - loss: 4.2723\n",
      "Epoch 76/80\n",
      "7/7 [==============================] - 0s 4ms/step - loss: 4.3493\n",
      "Epoch 77/80\n",
      "7/7 [==============================] - 0s 5ms/step - loss: 4.3656\n",
      "Epoch 78/80\n",
      "7/7 [==============================] - 0s 3ms/step - loss: 4.5785\n",
      "Epoch 79/80\n",
      "7/7 [==============================] - 0s 4ms/step - loss: 4.0352\n",
      "Epoch 80/80\n",
      "7/7 [==============================] - 0s 3ms/step - loss: 3.1843\n"
     ]
    }
   ],
   "source": [
    "# model.fit(train_data, train_targets, epochs=80, batch_size=16)\n",
    "history = model.fit(train_data, train_targets, epochs=80, batch_size=64)"
   ]
  },
  {
   "cell_type": "markdown",
   "metadata": {},
   "source": [
    "## Loss 값 변화 살펴보기"
   ]
  },
  {
   "cell_type": "code",
   "execution_count": 15,
   "metadata": {},
   "outputs": [],
   "source": [
    "import matplotlib.pyplot as plt"
   ]
  },
  {
   "cell_type": "code",
   "execution_count": 16,
   "metadata": {},
   "outputs": [
    {
     "data": {
      "image/png": "[encoded data removed]",
      "text/plain": [
       "<Figure size 640x480 with 1 Axes>"
      ]
     },
     "metadata": {},
     "output_type": "display_data"
    }
   ],
   "source": [
    "plt.plot(history.history['loss'])\n",
    "plt.xlabel('epoch')\n",
    "plt.ylabel('loss')\n",
    "plt.legend(['train'])\n",
    "plt.show()"
   ]
  },
  {
   "cell_type": "markdown",
   "metadata": {},
   "source": [
    "# 성능 평가하기"
   ]
  },
  {
   "cell_type": "code",
   "execution_count": 17,
   "metadata": {},
   "outputs": [
    {
     "name": "stdout",
     "output_type": "stream",
     "text": [
      "4/4 [==============================] - 0s 2ms/step\n"
     ]
    },
    {
     "data": {
      "text/plain": [
       "4.9412186647999405"
      ]
     },
     "execution_count": 17,
     "metadata": {},
     "output_type": "execute_result"
    }
   ],
   "source": [
    "y_pred = model.predict(test_data)\n",
    "from sklearn.metrics import mean_squared_error\n",
    "mean_squared_error(test_targets, y_pred)**0.5"
   ]
  },
  {
   "cell_type": "code",
   "execution_count": 18,
   "metadata": {},
   "outputs": [
    {
     "data": {
      "text/plain": [
       "0.7066973436774744"
      ]
     },
     "execution_count": 18,
     "metadata": {},
     "output_type": "execute_result"
    }
   ],
   "source": [
    "from sklearn.metrics import r2_score\n",
    "r2_score(test_targets, y_pred)"
   ]
  },
  {
   "cell_type": "code",
   "execution_count": null,
   "metadata": {},
   "outputs": [],
   "source": []
  }
 ],
 "metadata": {
  "kernelspec": {
   "display_name": "Python 3 (ipykernel)",
   "language": "python",
   "name": "python3"
  },
  "language_info": {
   "codemirror_mode": {
    "name": "ipython",
    "version": 3
   },
   "file_extension": ".py",
   "mimetype": "text/x-python",
   "name": "python",
   "nbconvert_exporter": "python",
   "pygments_lexer": "ipython3",
   "version": "3.8.8"
  }
 },
 "nbformat": 4,
 "nbformat_minor": 2
}
