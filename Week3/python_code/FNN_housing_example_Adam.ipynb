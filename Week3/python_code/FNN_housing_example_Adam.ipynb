{
 "cells": [
  {
   "cell_type": "code",
   "execution_count": 1,
   "metadata": {},
   "outputs": [],
   "source": [
    "import warnings\n",
    "warnings.filterwarnings('ignore')\n",
    "import numpy as np\n",
    "np.set_printoptions(suppress=True)"
   ]
  },
  {
   "cell_type": "code",
   "execution_count": 2,
   "metadata": {},
   "outputs": [],
   "source": [
    "import tensorflow as tf\n",
    "from tensorflow import keras"
   ]
  },
  {
   "cell_type": "code",
   "execution_count": 3,
   "metadata": {},
   "outputs": [],
   "source": [
    "(train_data, train_targets), (test_data, test_targets) =keras.datasets.boston_housing.load_data()"
   ]
  },
  {
   "cell_type": "code",
   "execution_count": 4,
   "metadata": {},
   "outputs": [],
   "source": [
    "mean = train_data.mean(axis=0)\n",
    "train_data -= mean\n",
    "std = train_data.std(axis=0)\n",
    "train_data /= std\n",
    "test_data -= mean\n",
    "test_data /= std"
   ]
  },
  {
   "cell_type": "code",
   "execution_count": 5,
   "metadata": {},
   "outputs": [],
   "source": [
    "from tensorflow.keras import models\n",
    "from tensorflow.keras import layers"
   ]
  },
  {
   "cell_type": "code",
   "execution_count": 6,
   "metadata": {},
   "outputs": [
    {
     "data": {
      "text/plain": [
       "(404, 13)"
      ]
     },
     "execution_count": 6,
     "metadata": {},
     "output_type": "execute_result"
    }
   ],
   "source": [
    "train_data.shape"
   ]
  },
  {
   "cell_type": "code",
   "execution_count": 50,
   "metadata": {},
   "outputs": [],
   "source": [
    "model = models.Sequential()"
   ]
  },
  {
   "cell_type": "code",
   "execution_count": 51,
   "metadata": {},
   "outputs": [],
   "source": [
    "model.add(layers.Dense(64, activation = 'relu', kernel_initializer = 'glorot_uniform', input_shape=(train_data.shape[1],)))"
   ]
  },
  {
   "cell_type": "code",
   "execution_count": 52,
   "metadata": {},
   "outputs": [],
   "source": [
    "model.add(layers.Dense(64, activation = 'relu', kernel_initializer = 'glorot_uniform'))"
   ]
  },
  {
   "cell_type": "code",
   "execution_count": 53,
   "metadata": {},
   "outputs": [],
   "source": [
    "model.add(layers.Dense(1))"
   ]
  },
  {
   "cell_type": "code",
   "execution_count": 54,
   "metadata": {},
   "outputs": [
    {
     "name": "stdout",
     "output_type": "stream",
     "text": [
      "Model: \"sequential_3\"\n",
      "_________________________________________________________________\n",
      " Layer (type)                Output Shape              Param #   \n",
      "=================================================================\n",
      " dense_9 (Dense)             (None, 64)                896       \n",
      "                                                                 \n",
      " dense_10 (Dense)            (None, 64)                4160      \n",
      "                                                                 \n",
      " dense_11 (Dense)            (None, 1)                 65        \n",
      "                                                                 \n",
      "=================================================================\n",
      "Total params: 5,121\n",
      "Trainable params: 5,121\n",
      "Non-trainable params: 0\n",
      "_________________________________________________________________\n"
     ]
    }
   ],
   "source": [
    "model.summary()"
   ]
  },
  {
   "cell_type": "markdown",
   "metadata": {},
   "source": [
    "## Adam 옵티마이저 사용해 보기"
   ]
  },
  {
   "cell_type": "code",
   "execution_count": 55,
   "metadata": {},
   "outputs": [],
   "source": [
    "# Optimizer 종류 => https://keras.io/api/optimizers/\n",
    "adam = tf.keras.optimizers.Adam(learning_rate=0.01, beta_1=0.9, beta_2=0.999)"
   ]
  },
  {
   "cell_type": "code",
   "execution_count": 56,
   "metadata": {},
   "outputs": [],
   "source": [
    "model.compile(optimizer=adam, loss='mse')"
   ]
  },
  {
   "cell_type": "code",
   "execution_count": 57,
   "metadata": {
    "scrolled": true
   },
   "outputs": [
    {
     "name": "stdout",
     "output_type": "stream",
     "text": [
      "Epoch 1/80\n",
      "7/7 [==============================] - 0s 1ms/step - loss: 476.4123\n",
      "Epoch 2/80\n",
      "7/7 [==============================] - 0s 1ms/step - loss: 116.2878\n",
      "Epoch 3/80\n",
      "7/7 [==============================] - 0s 2ms/step - loss: 69.1834\n",
      "Epoch 4/80\n",
      "7/7 [==============================] - 0s 2ms/step - loss: 37.2440\n",
      "Epoch 5/80\n",
      "7/7 [==============================] - 0s 2ms/step - loss: 22.7679\n",
      "Epoch 6/80\n",
      "7/7 [==============================] - 0s 2ms/step - loss: 20.0405\n",
      "Epoch 7/80\n",
      "7/7 [==============================] - 0s 1ms/step - loss: 15.4101\n",
      "Epoch 8/80\n",
      "7/7 [==============================] - 0s 1ms/step - loss: 13.8232\n",
      "Epoch 9/80\n",
      "7/7 [==============================] - 0s 2ms/step - loss: 12.3503\n",
      "Epoch 10/80\n",
      "7/7 [==============================] - 0s 2ms/step - loss: 12.0156\n",
      "Epoch 11/80\n",
      "7/7 [==============================] - 0s 2ms/step - loss: 11.1398\n",
      "Epoch 12/80\n",
      "7/7 [==============================] - 0s 2ms/step - loss: 10.9965\n",
      "Epoch 13/80\n",
      "7/7 [==============================] - 0s 2ms/step - loss: 10.4030\n",
      "Epoch 14/80\n",
      "7/7 [==============================] - 0s 2ms/step - loss: 10.1153\n",
      "Epoch 15/80\n",
      "7/7 [==============================] - 0s 2ms/step - loss: 10.1455\n",
      "Epoch 16/80\n",
      "7/7 [==============================] - 0s 2ms/step - loss: 9.8505\n",
      "Epoch 17/80\n",
      "7/7 [==============================] - 0s 2ms/step - loss: 9.7310\n",
      "Epoch 18/80\n",
      "7/7 [==============================] - 0s 1ms/step - loss: 9.2656\n",
      "Epoch 19/80\n",
      "7/7 [==============================] - 0s 2ms/step - loss: 8.9973\n",
      "Epoch 20/80\n",
      "7/7 [==============================] - 0s 2ms/step - loss: 9.1819\n",
      "Epoch 21/80\n",
      "7/7 [==============================] - 0s 1ms/step - loss: 8.9001\n",
      "Epoch 22/80\n",
      "7/7 [==============================] - 0s 2ms/step - loss: 8.6974\n",
      "Epoch 23/80\n",
      "7/7 [==============================] - 0s 2ms/step - loss: 8.2592\n",
      "Epoch 24/80\n",
      "7/7 [==============================] - 0s 997us/step - loss: 8.3419\n",
      "Epoch 25/80\n",
      "7/7 [==============================] - 0s 1ms/step - loss: 8.4451\n",
      "Epoch 26/80\n",
      "7/7 [==============================] - 0s 1ms/step - loss: 8.2015\n",
      "Epoch 27/80\n",
      "7/7 [==============================] - 0s 1ms/step - loss: 7.9305\n",
      "Epoch 28/80\n",
      "7/7 [==============================] - 0s 997us/step - loss: 7.9162\n",
      "Epoch 29/80\n",
      "7/7 [==============================] - 0s 1ms/step - loss: 8.5595\n",
      "Epoch 30/80\n",
      "7/7 [==============================] - 0s 1ms/step - loss: 7.7290\n",
      "Epoch 31/80\n",
      "7/7 [==============================] - 0s 1ms/step - loss: 7.7828\n",
      "Epoch 32/80\n",
      "7/7 [==============================] - 0s 1ms/step - loss: 7.4970\n",
      "Epoch 33/80\n",
      "7/7 [==============================] - 0s 1ms/step - loss: 7.2809\n",
      "Epoch 34/80\n",
      "7/7 [==============================] - 0s 1ms/step - loss: 7.4596\n",
      "Epoch 35/80\n",
      "7/7 [==============================] - 0s 1ms/step - loss: 7.4090\n",
      "Epoch 36/80\n",
      "7/7 [==============================] - 0s 1ms/step - loss: 7.2761\n",
      "Epoch 37/80\n",
      "7/7 [==============================] - 0s 1ms/step - loss: 7.3407\n",
      "Epoch 38/80\n",
      "7/7 [==============================] - 0s 2ms/step - loss: 7.6464\n",
      "Epoch 39/80\n",
      "7/7 [==============================] - 0s 1ms/step - loss: 7.3725\n",
      "Epoch 40/80\n",
      "7/7 [==============================] - 0s 1ms/step - loss: 7.0677\n",
      "Epoch 41/80\n",
      "7/7 [==============================] - 0s 1ms/step - loss: 6.8144\n",
      "Epoch 42/80\n",
      "7/7 [==============================] - 0s 1ms/step - loss: 6.6403\n",
      "Epoch 43/80\n",
      "7/7 [==============================] - 0s 1ms/step - loss: 6.6135\n",
      "Epoch 44/80\n",
      "7/7 [==============================] - 0s 1ms/step - loss: 6.5160\n",
      "Epoch 45/80\n",
      "7/7 [==============================] - 0s 1ms/step - loss: 6.4398\n",
      "Epoch 46/80\n",
      "7/7 [==============================] - 0s 1ms/step - loss: 7.1874\n",
      "Epoch 47/80\n",
      "7/7 [==============================] - 0s 1ms/step - loss: 6.7134\n",
      "Epoch 48/80\n",
      "7/7 [==============================] - 0s 1ms/step - loss: 6.4887\n",
      "Epoch 49/80\n",
      "7/7 [==============================] - 0s 1ms/step - loss: 6.2959\n",
      "Epoch 50/80\n",
      "7/7 [==============================] - 0s 1ms/step - loss: 6.2284\n",
      "Epoch 51/80\n",
      "7/7 [==============================] - 0s 1ms/step - loss: 6.1116\n",
      "Epoch 52/80\n",
      "7/7 [==============================] - 0s 997us/step - loss: 6.0392\n",
      "Epoch 53/80\n",
      "7/7 [==============================] - 0s 1ms/step - loss: 6.0308\n",
      "Epoch 54/80\n",
      "7/7 [==============================] - 0s 1ms/step - loss: 5.6808\n",
      "Epoch 55/80\n",
      "7/7 [==============================] - 0s 1ms/step - loss: 5.8978\n",
      "Epoch 56/80\n",
      "7/7 [==============================] - 0s 2ms/step - loss: 5.7516\n",
      "Epoch 57/80\n",
      "7/7 [==============================] - 0s 1ms/step - loss: 5.8532\n",
      "Epoch 58/80\n",
      "7/7 [==============================] - 0s 1ms/step - loss: 5.7685\n",
      "Epoch 59/80\n",
      "7/7 [==============================] - 0s 1ms/step - loss: 5.8484\n",
      "Epoch 60/80\n",
      "7/7 [==============================] - 0s 1ms/step - loss: 5.6567\n",
      "Epoch 61/80\n",
      "7/7 [==============================] - 0s 2ms/step - loss: 5.6472\n",
      "Epoch 62/80\n",
      "7/7 [==============================] - 0s 2ms/step - loss: 5.8134\n",
      "Epoch 63/80\n",
      "7/7 [==============================] - 0s 1ms/step - loss: 5.4078\n",
      "Epoch 64/80\n",
      "7/7 [==============================] - 0s 1ms/step - loss: 5.1869\n",
      "Epoch 65/80\n",
      "7/7 [==============================] - 0s 2ms/step - loss: 5.1081\n",
      "Epoch 66/80\n",
      "7/7 [==============================] - 0s 2ms/step - loss: 5.2560\n",
      "Epoch 67/80\n",
      "7/7 [==============================] - 0s 2ms/step - loss: 5.1934\n",
      "Epoch 68/80\n",
      "7/7 [==============================] - 0s 1ms/step - loss: 5.3670\n",
      "Epoch 69/80\n",
      "7/7 [==============================] - 0s 1ms/step - loss: 5.3127\n",
      "Epoch 70/80\n",
      "7/7 [==============================] - 0s 1ms/step - loss: 4.9998\n",
      "Epoch 71/80\n",
      "7/7 [==============================] - 0s 1ms/step - loss: 5.4263\n",
      "Epoch 72/80\n",
      "7/7 [==============================] - 0s 1ms/step - loss: 5.1164\n",
      "Epoch 73/80\n",
      "7/7 [==============================] - 0s 1ms/step - loss: 5.0208\n",
      "Epoch 74/80\n",
      "7/7 [==============================] - 0s 1ms/step - loss: 5.2252\n",
      "Epoch 75/80\n",
      "7/7 [==============================] - 0s 1ms/step - loss: 5.4603\n",
      "Epoch 76/80\n",
      "7/7 [==============================] - 0s 1ms/step - loss: 5.2084\n",
      "Epoch 77/80\n",
      "7/7 [==============================] - 0s 1ms/step - loss: 4.8409\n",
      "Epoch 78/80\n",
      "7/7 [==============================] - 0s 1ms/step - loss: 4.9019\n",
      "Epoch 79/80\n",
      "7/7 [==============================] - 0s 1ms/step - loss: 4.5314\n",
      "Epoch 80/80\n",
      "7/7 [==============================] - 0s 1ms/step - loss: 4.9838\n"
     ]
    }
   ],
   "source": [
    "# model.fit(train_data, train_targets, epochs=80, batch_size=16)\n",
    "history = model.fit(train_data, train_targets, epochs=80, batch_size=64)"
   ]
  },
  {
   "cell_type": "markdown",
   "metadata": {},
   "source": [
    "## Loss 값 변화 살펴보기"
   ]
  },
  {
   "cell_type": "code",
   "execution_count": 58,
   "metadata": {},
   "outputs": [],
   "source": [
    "import matplotlib.pyplot as plt"
   ]
  },
  {
   "cell_type": "code",
   "execution_count": 59,
   "metadata": {},
   "outputs": [
    {
     "data": {
      "image/png": "[encoded data removed]",
      "text/plain": [
       "<Figure size 640x480 with 1 Axes>"
      ]
     },
     "metadata": {},
     "output_type": "display_data"
    }
   ],
   "source": [
    "plt.plot(history.history['loss'])\n",
    "plt.xlabel('epoch')\n",
    "plt.ylabel('loss')\n",
    "plt.legend(['train'])\n",
    "plt.show()"
   ]
  },
  {
   "cell_type": "markdown",
   "metadata": {},
   "source": [
    "# 성능 평가하기"
   ]
  },
  {
   "cell_type": "code",
   "execution_count": 60,
   "metadata": {},
   "outputs": [
    {
     "name": "stdout",
     "output_type": "stream",
     "text": [
      "4/4 [==============================] - 0s 2ms/step\n"
     ]
    },
    {
     "data": {
      "text/plain": [
       "3.8480278564674326"
      ]
     },
     "execution_count": 60,
     "metadata": {},
     "output_type": "execute_result"
    }
   ],
   "source": [
    "y_pred = model.predict(test_data)\n",
    "from sklearn.metrics import mean_squared_error\n",
    "mean_squared_error(test_targets, y_pred)**0.5"
   ]
  },
  {
   "cell_type": "code",
   "execution_count": 61,
   "metadata": {},
   "outputs": [
    {
     "data": {
      "text/plain": [
       "0.8221211699429378"
      ]
     },
     "execution_count": 61,
     "metadata": {},
     "output_type": "execute_result"
    }
   ],
   "source": [
    "from sklearn.metrics import r2_score\n",
    "r2_score(test_targets, y_pred)"
   ]
  },
  {
   "cell_type": "code",
   "execution_count": null,
   "metadata": {},
   "outputs": [],
   "source": []
  }
 ],
 "metadata": {
  "kernelspec": {
   "display_name": "Python 3 (ipykernel)",
   "language": "python",
   "name": "python3"
  },
  "language_info": {
   "codemirror_mode": {
    "name": "ipython",
    "version": 3
   },
   "file_extension": ".py",
   "mimetype": "text/x-python",
   "name": "python",
   "nbconvert_exporter": "python",
   "pygments_lexer": "ipython3",
   "version": "3.8.5"
  }
 },
 "nbformat": 4,
 "nbformat_minor": 2
}
