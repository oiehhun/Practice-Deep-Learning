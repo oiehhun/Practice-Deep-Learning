{
 "cells": [
  {
   "cell_type": "code",
   "execution_count": 2,
   "metadata": {},
   "outputs": [],
   "source": [
    "import warnings\n",
    "warnings.filterwarnings('ignore')"
   ]
  },
  {
   "cell_type": "code",
   "execution_count": 1,
   "metadata": {},
   "outputs": [],
   "source": [
    "import tensorflow as tf\n",
    "from tensorflow import keras"
   ]
  },
  {
   "cell_type": "code",
   "execution_count": 3,
   "metadata": {},
   "outputs": [],
   "source": [
    "(train_data, train_targets), (test_data, test_targets) =keras.datasets.boston_housing.load_data()"
   ]
  },
  {
   "cell_type": "code",
   "execution_count": 4,
   "metadata": {},
   "outputs": [],
   "source": [
    "mean = train_data.mean(axis=0)\n",
    "train_data -= mean\n",
    "std = train_data.std(axis=0)\n",
    "train_data /= std\n",
    "test_data -= mean\n",
    "test_data /= std"
   ]
  },
  {
   "cell_type": "code",
   "execution_count": 5,
   "metadata": {},
   "outputs": [],
   "source": [
    "from tensorflow.keras import models\n",
    "from tensorflow.keras import layers"
   ]
  },
  {
   "cell_type": "code",
   "execution_count": 6,
   "metadata": {},
   "outputs": [
    {
     "data": {
      "text/plain": [
       "(404, 13)"
      ]
     },
     "execution_count": 6,
     "metadata": {},
     "output_type": "execute_result"
    }
   ],
   "source": [
    "train_data.shape"
   ]
  },
  {
   "cell_type": "code",
   "execution_count": 7,
   "metadata": {},
   "outputs": [],
   "source": [
    "model = models.Sequential()"
   ]
  },
  {
   "cell_type": "code",
   "execution_count": 8,
   "metadata": {},
   "outputs": [],
   "source": [
    "model.add(layers.Dense(64, activation = 'relu', kernel_initializer = 'glorot_uniform', input_shape=(train_data.shape[1],)))"
   ]
  },
  {
   "cell_type": "code",
   "execution_count": 9,
   "metadata": {},
   "outputs": [],
   "source": [
    "model.add(layers.BatchNormalization())"
   ]
  },
  {
   "cell_type": "code",
   "execution_count": 10,
   "metadata": {},
   "outputs": [],
   "source": [
    "model.add(layers.Dense(64, activation = 'relu', kernel_initializer = 'glorot_uniform'))"
   ]
  },
  {
   "cell_type": "code",
   "execution_count": 11,
   "metadata": {},
   "outputs": [],
   "source": [
    "model.add(layers.LayerNormalization())"
   ]
  },
  {
   "cell_type": "code",
   "execution_count": 12,
   "metadata": {},
   "outputs": [],
   "source": [
    "model.add(layers.Dense(1))"
   ]
  },
  {
   "cell_type": "code",
   "execution_count": 13,
   "metadata": {},
   "outputs": [
    {
     "name": "stdout",
     "output_type": "stream",
     "text": [
      "Model: \"sequential\"\n",
      "_________________________________________________________________\n",
      " Layer (type)                Output Shape              Param #   \n",
      "=================================================================\n",
      " dense (Dense)               (None, 64)                896       \n",
      "                                                                 \n",
      " batch_normalization (BatchN  (None, 64)               256       \n",
      " ormalization)                                                   \n",
      "                                                                 \n",
      " dense_1 (Dense)             (None, 64)                4160      \n",
      "                                                                 \n",
      " layer_normalization (LayerN  (None, 64)               128       \n",
      " ormalization)                                                   \n",
      "                                                                 \n",
      " dense_2 (Dense)             (None, 1)                 65        \n",
      "                                                                 \n",
      "=================================================================\n",
      "Total params: 5,505\n",
      "Trainable params: 5,377\n",
      "Non-trainable params: 128\n",
      "_________________________________________________________________\n"
     ]
    }
   ],
   "source": [
    "model.summary()"
   ]
  },
  {
   "cell_type": "code",
   "execution_count": 14,
   "metadata": {},
   "outputs": [],
   "source": [
    "rmsprop = tf.keras.optimizers.RMSprop(learning_rate=0.01, rho=0.85, momentum=0.9)"
   ]
  },
  {
   "cell_type": "code",
   "execution_count": 15,
   "metadata": {},
   "outputs": [],
   "source": [
    "model.compile(optimizer=rmsprop, loss='mse')"
   ]
  },
  {
   "cell_type": "code",
   "execution_count": 16,
   "metadata": {
    "scrolled": true
   },
   "outputs": [
    {
     "name": "stdout",
     "output_type": "stream",
     "text": [
      "Epoch 1/80\n",
      "7/7 [==============================] - 1s 2ms/step - loss: 268.0562\n",
      "Epoch 2/80\n",
      "7/7 [==============================] - 0s 2ms/step - loss: 87.6610\n",
      "Epoch 3/80\n",
      "7/7 [==============================] - 0s 2ms/step - loss: 37.6473\n",
      "Epoch 4/80\n",
      "7/7 [==============================] - 0s 2ms/step - loss: 31.4636\n",
      "Epoch 5/80\n",
      "7/7 [==============================] - 0s 2ms/step - loss: 16.6140\n",
      "Epoch 6/80\n",
      "7/7 [==============================] - 0s 2ms/step - loss: 13.5610\n",
      "Epoch 7/80\n",
      "7/7 [==============================] - 0s 2ms/step - loss: 11.1377\n",
      "Epoch 8/80\n",
      "7/7 [==============================] - 0s 2ms/step - loss: 14.3284\n",
      "Epoch 9/80\n",
      "7/7 [==============================] - 0s 2ms/step - loss: 14.3804\n",
      "Epoch 10/80\n",
      "7/7 [==============================] - 0s 2ms/step - loss: 19.1627\n",
      "Epoch 11/80\n",
      "7/7 [==============================] - 0s 2ms/step - loss: 13.2803\n",
      "Epoch 12/80\n",
      "7/7 [==============================] - 0s 2ms/step - loss: 12.2119\n",
      "Epoch 13/80\n",
      "7/7 [==============================] - 0s 2ms/step - loss: 16.1195\n",
      "Epoch 14/80\n",
      "7/7 [==============================] - 0s 2ms/step - loss: 15.8184\n",
      "Epoch 15/80\n",
      "7/7 [==============================] - 0s 2ms/step - loss: 11.3534\n",
      "Epoch 16/80\n",
      "7/7 [==============================] - 0s 2ms/step - loss: 9.8397\n",
      "Epoch 17/80\n",
      "7/7 [==============================] - 0s 2ms/step - loss: 9.6968\n",
      "Epoch 18/80\n",
      "7/7 [==============================] - 0s 2ms/step - loss: 11.4099\n",
      "Epoch 19/80\n",
      "7/7 [==============================] - 0s 2ms/step - loss: 16.4090\n",
      "Epoch 20/80\n",
      "7/7 [==============================] - 0s 2ms/step - loss: 11.4544\n",
      "Epoch 21/80\n",
      "7/7 [==============================] - 0s 2ms/step - loss: 7.6347\n",
      "Epoch 22/80\n",
      "7/7 [==============================] - 0s 2ms/step - loss: 10.5382\n",
      "Epoch 23/80\n",
      "7/7 [==============================] - 0s 2ms/step - loss: 10.7400\n",
      "Epoch 24/80\n",
      "7/7 [==============================] - 0s 2ms/step - loss: 8.9733\n",
      "Epoch 25/80\n",
      "7/7 [==============================] - 0s 2ms/step - loss: 7.8311\n",
      "Epoch 26/80\n",
      "7/7 [==============================] - 0s 2ms/step - loss: 6.6568\n",
      "Epoch 27/80\n",
      "7/7 [==============================] - 0s 2ms/step - loss: 7.0797\n",
      "Epoch 28/80\n",
      "7/7 [==============================] - 0s 2ms/step - loss: 8.3849\n",
      "Epoch 29/80\n",
      "7/7 [==============================] - 0s 2ms/step - loss: 14.2206\n",
      "Epoch 30/80\n",
      "7/7 [==============================] - 0s 2ms/step - loss: 9.6226\n",
      "Epoch 31/80\n",
      "7/7 [==============================] - 0s 2ms/step - loss: 9.1938\n",
      "Epoch 32/80\n",
      "7/7 [==============================] - 0s 2ms/step - loss: 10.2183\n",
      "Epoch 33/80\n",
      "7/7 [==============================] - 0s 2ms/step - loss: 7.7361\n",
      "Epoch 34/80\n",
      "7/7 [==============================] - 0s 2ms/step - loss: 7.1543\n",
      "Epoch 35/80\n",
      "7/7 [==============================] - 0s 2ms/step - loss: 9.7069\n",
      "Epoch 36/80\n",
      "7/7 [==============================] - 0s 2ms/step - loss: 12.4246\n",
      "Epoch 37/80\n",
      "7/7 [==============================] - 0s 2ms/step - loss: 8.9436\n",
      "Epoch 38/80\n",
      "7/7 [==============================] - 0s 2ms/step - loss: 7.1577\n",
      "Epoch 39/80\n",
      "7/7 [==============================] - 0s 2ms/step - loss: 7.2492\n",
      "Epoch 40/80\n",
      "7/7 [==============================] - 0s 2ms/step - loss: 6.8786\n",
      "Epoch 41/80\n",
      "7/7 [==============================] - 0s 2ms/step - loss: 5.1246\n",
      "Epoch 42/80\n",
      "7/7 [==============================] - 0s 1ms/step - loss: 6.0444\n",
      "Epoch 43/80\n",
      "7/7 [==============================] - 0s 1ms/step - loss: 4.8645\n",
      "Epoch 44/80\n",
      "7/7 [==============================] - 0s 1ms/step - loss: 6.2910\n",
      "Epoch 45/80\n",
      "7/7 [==============================] - 0s 2ms/step - loss: 5.6746\n",
      "Epoch 46/80\n",
      "7/7 [==============================] - 0s 2ms/step - loss: 7.7126\n",
      "Epoch 47/80\n",
      "7/7 [==============================] - 0s 2ms/step - loss: 5.8294\n",
      "Epoch 48/80\n",
      "7/7 [==============================] - 0s 2ms/step - loss: 6.0465\n",
      "Epoch 49/80\n",
      "7/7 [==============================] - 0s 2ms/step - loss: 6.1682\n",
      "Epoch 50/80\n",
      "7/7 [==============================] - 0s 2ms/step - loss: 6.1393\n",
      "Epoch 51/80\n",
      "7/7 [==============================] - 0s 2ms/step - loss: 5.4374\n",
      "Epoch 52/80\n",
      "7/7 [==============================] - 0s 2ms/step - loss: 5.4821\n",
      "Epoch 53/80\n",
      "7/7 [==============================] - 0s 2ms/step - loss: 5.0308\n",
      "Epoch 54/80\n",
      "7/7 [==============================] - 0s 2ms/step - loss: 5.2840\n",
      "Epoch 55/80\n",
      "7/7 [==============================] - 0s 2ms/step - loss: 5.0368\n",
      "Epoch 56/80\n",
      "7/7 [==============================] - 0s 2ms/step - loss: 7.0787\n",
      "Epoch 57/80\n",
      "7/7 [==============================] - 0s 2ms/step - loss: 10.5012\n",
      "Epoch 58/80\n",
      "7/7 [==============================] - 0s 2ms/step - loss: 4.5101\n",
      "Epoch 59/80\n",
      "7/7 [==============================] - 0s 2ms/step - loss: 4.0686\n",
      "Epoch 60/80\n",
      "7/7 [==============================] - 0s 2ms/step - loss: 4.1790\n",
      "Epoch 61/80\n",
      "7/7 [==============================] - 0s 2ms/step - loss: 5.9676\n",
      "Epoch 62/80\n",
      "7/7 [==============================] - 0s 2ms/step - loss: 8.1223\n",
      "Epoch 63/80\n",
      "7/7 [==============================] - 0s 2ms/step - loss: 6.5425\n",
      "Epoch 64/80\n",
      "7/7 [==============================] - 0s 2ms/step - loss: 5.6084\n",
      "Epoch 65/80\n",
      "7/7 [==============================] - 0s 2ms/step - loss: 5.7683\n",
      "Epoch 66/80\n",
      "7/7 [==============================] - 0s 2ms/step - loss: 5.4579\n",
      "Epoch 67/80\n",
      "7/7 [==============================] - 0s 2ms/step - loss: 5.3911\n",
      "Epoch 68/80\n",
      "7/7 [==============================] - 0s 2ms/step - loss: 5.7033\n",
      "Epoch 69/80\n",
      "7/7 [==============================] - 0s 2ms/step - loss: 4.0920\n",
      "Epoch 70/80\n",
      "7/7 [==============================] - 0s 2ms/step - loss: 5.1824\n",
      "Epoch 71/80\n",
      "7/7 [==============================] - 0s 2ms/step - loss: 6.7601\n",
      "Epoch 72/80\n",
      "7/7 [==============================] - 0s 2ms/step - loss: 7.1391\n",
      "Epoch 73/80\n",
      "7/7 [==============================] - 0s 2ms/step - loss: 6.4451\n",
      "Epoch 74/80\n",
      "7/7 [==============================] - 0s 2ms/step - loss: 4.0437\n",
      "Epoch 75/80\n",
      "7/7 [==============================] - 0s 2ms/step - loss: 4.3033\n",
      "Epoch 76/80\n",
      "7/7 [==============================] - 0s 2ms/step - loss: 5.2394\n",
      "Epoch 77/80\n",
      "7/7 [==============================] - 0s 2ms/step - loss: 4.0042\n",
      "Epoch 78/80\n",
      "7/7 [==============================] - 0s 2ms/step - loss: 4.9657\n",
      "Epoch 79/80\n",
      "7/7 [==============================] - 0s 2ms/step - loss: 3.9219\n",
      "Epoch 80/80\n",
      "7/7 [==============================] - 0s 2ms/step - loss: 4.5849\n"
     ]
    }
   ],
   "source": [
    "# model.fit(train_data, train_targets, epochs=80, batch_size=16)\n",
    "history = model.fit(train_data, train_targets, epochs=80, batch_size=64)"
   ]
  },
  {
   "cell_type": "markdown",
   "metadata": {},
   "source": [
    "## Loss 값 변화 살펴보기"
   ]
  },
  {
   "cell_type": "code",
   "execution_count": 17,
   "metadata": {},
   "outputs": [],
   "source": [
    "import matplotlib.pyplot as plt"
   ]
  },
  {
   "cell_type": "code",
   "execution_count": 18,
   "metadata": {},
   "outputs": [
    {
     "data": {
      "image/png": "[encoded data removed]",
      "text/plain": [
       "<Figure size 640x480 with 1 Axes>"
      ]
     },
     "metadata": {},
     "output_type": "display_data"
    }
   ],
   "source": [
    "plt.plot(history.history['loss'])\n",
    "plt.xlabel('epoch')\n",
    "plt.ylabel('loss')\n",
    "plt.legend(['train'])\n",
    "plt.show()"
   ]
  },
  {
   "cell_type": "markdown",
   "metadata": {},
   "source": [
    "# 성능 평가하기"
   ]
  },
  {
   "cell_type": "code",
   "execution_count": 19,
   "metadata": {},
   "outputs": [
    {
     "name": "stdout",
     "output_type": "stream",
     "text": [
      "4/4 [==============================] - 0s 4ms/step\n"
     ]
    },
    {
     "data": {
      "text/plain": [
       "4.198180458232381"
      ]
     },
     "execution_count": 19,
     "metadata": {},
     "output_type": "execute_result"
    }
   ],
   "source": [
    "y_pred = model.predict(test_data)\n",
    "from sklearn.metrics import mean_squared_error\n",
    "mean_squared_error(test_targets, y_pred)**0.5"
   ]
  },
  {
   "cell_type": "code",
   "execution_count": 20,
   "metadata": {},
   "outputs": [
    {
     "data": {
      "text/plain": [
       "0.7882760171078337"
      ]
     },
     "execution_count": 20,
     "metadata": {},
     "output_type": "execute_result"
    }
   ],
   "source": [
    "from sklearn.metrics import r2_score\n",
    "r2_score(test_targets, y_pred)"
   ]
  },
  {
   "cell_type": "code",
   "execution_count": null,
   "metadata": {},
   "outputs": [],
   "source": []
  }
 ],
 "metadata": {
  "kernelspec": {
   "display_name": "Python 3 (ipykernel)",
   "language": "python",
   "name": "python3"
  },
  "language_info": {
   "codemirror_mode": {
    "name": "ipython",
    "version": 3
   },
   "file_extension": ".py",
   "mimetype": "text/x-python",
   "name": "python",
   "nbconvert_exporter": "python",
   "pygments_lexer": "ipython3",
   "version": "3.8.5"
  }
 },
 "nbformat": 4,
 "nbformat_minor": 2
}
